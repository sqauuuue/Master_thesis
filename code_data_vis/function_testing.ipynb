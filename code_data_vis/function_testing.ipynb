{
 "cells": [
  {
   "cell_type": "code",
   "execution_count": 3,
   "id": "266e03fa-841b-467b-b1ad-4ce282d41301",
   "metadata": {},
   "outputs": [],
   "source": [
    "from function_basic_1 import concatenate_files"
   ]
  },
  {
   "cell_type": "code",
   "execution_count": null,
   "id": "dfbc6a89-90c0-4652-9130-2482a22ec1ff",
   "metadata": {},
   "outputs": [],
   "source": [
    "ds_era,ds_fcn_era = load_data('/lsdf/kit/imk-tro/projects/MOD/Gruppe_Knippertz/ey9908/tmp_Yangfan/data/')"
   ]
  },
  {
   "cell_type": "code",
   "execution_count": 2,
   "id": "4aded881-4a58-41e3-9630-1d76551e6d0a",
   "metadata": {},
   "outputs": [],
   "source": [
    "ds_ec_cf = concatenate_files('/lsdf/kit/imk-tro/projects/MOD/Gruppe_Grams/nk2448/2023_FourCastNet/Yangfan/validation/', r'fc_cf_\\d{8}_\\d{2}_sfc\\.nc')"
   ]
  },
  {
   "cell_type": "code",
   "execution_count": 12,
   "id": "47b9363b-8eb9-4ca5-9e9c-8ad404977ca4",
   "metadata": {},
   "outputs": [],
   "source": [
    "ds_fcn_ec = concatenate_files('/lsdf/kit/imk-tro/projects/MOD/Gruppe_Knippertz/ey9908/tmp_Yangfan/data/fourcastnet/with_ecmwf_ic/', r'\\d{8}_00_backtransformed\\.nc')"
   ]
  },
  {
   "cell_type": "code",
   "execution_count": null,
   "id": "f55a0387-3875-4cbb-a765-0800a02908d7",
   "metadata": {},
   "outputs": [],
   "source": []
  },
  {
   "cell_type": "code",
   "execution_count": null,
   "id": "f1c86383-8aa3-4a7d-b202-32f00abdc27e",
   "metadata": {},
   "outputs": [],
   "source": []
  }
 ],
 "metadata": {
  "kernelspec": {
   "display_name": "newenvi1",
   "language": "python",
   "name": "newenvi1"
  },
  "language_info": {
   "codemirror_mode": {
    "name": "ipython",
    "version": 3
   },
   "file_extension": ".py",
   "mimetype": "text/x-python",
   "name": "python",
   "nbconvert_exporter": "python",
   "pygments_lexer": "ipython3",
   "version": "3.9.7"
  }
 },
 "nbformat": 4,
 "nbformat_minor": 5
}
