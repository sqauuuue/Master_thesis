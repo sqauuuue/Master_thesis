{
 "cells": [
  {
   "cell_type": "code",
   "execution_count": null,
   "id": "4c3afaf4-6d68-44b1-8a6c-3b98d3d9ab2d",
   "metadata": {},
   "outputs": [],
   "source": [
    "import numpy as np\n",
    "import h5py\n",
    "import matplotlib.pyplot as plt\n",
    "#import os\n",
    "import cartopy.crs as ccrs\n",
    "import cartopy.feature as cfeature\n",
    "import xarray as xr\n",
    "import matplotlib.patches as patches\n",
    "import os\n",
    "import cartopy.mpl.ticker as cticker\n",
    "from cartopy.mpl.gridliner import LONGITUDE_FORMATTER, LATITUDE_FORMATTER\n",
    "from plotly.subplots import make_subplots\n",
    "import plotly.graph_objects as go\n",
    "import re\n",
    "import datetime\n",
    "import pandas as pd\n",
    "import matplotlib.dates as mdates\n",
    "import matplotlib.colors as mcolors\n",
    "import datetime\n",
    "from matplotlib.colors import ListedColormap\n",
    "from matplotlib.colors import TwoSlopeNorm\n",
    "from scipy.stats import pearsonr"
   ]
  },
  {
   "cell_type": "code",
   "execution_count": null,
   "id": "eb69a6e2-e990-4ed6-a305-29450caf8d1a",
   "metadata": {},
   "outputs": [],
   "source": [
    "##################################### read the era5 data -- t2m, t850, z500 ##############################################################################"
   ]
  },
  {
   "cell_type": "code",
   "execution_count": null,
   "id": "10e37ec4-da78-4c22-94a1-3c57e022e6bd",
   "metadata": {},
   "outputs": [],
   "source": [
    "ds_era = xr.open_dataset('/lsdf/kit/imk-tro/projects/MOD/Gruppe_Knippertz/ey9908/tmp_Yangfan/data/era5/2021.h5')\n",
    "ds_era5_t2m_na = ds_era.fields[656:737:4,2,260:40:-1,720:1200]\n",
    "ds_era5_t850_na = ds_era.fields[656:737:4,5,260:40:-1,720:1200]\n",
    "ds_era5_z500_na = ds_era.fields[656:737:4,14,260:40:-1,720:1200]\n",
    "ds_era5_t2m_na_0629 = ds_era5_t2m_na[15,:,:]\n",
    "ds_era5_t850_na_0629 = ds_era5_t850_na[15,:,:]\n",
    "ds_era5_z500_na_0629 = ds_era5_z500_na[15,:,:]\n",
    "ds_era5_t2m_box_mean = np.mean(ds_era5_t2m_na[:,61:141,194:274], axis=(1, 2))\n",
    "ds_era5_t850_box_mean = np.mean(ds_era5_t850_na[:,61:141,194:274], axis=(1, 2))\n",
    "ds_era5_z500_box_mean = np.mean(ds_era5_z500_na[:,61:141,194:274], axis=(1, 2))\n",
    "\n",
    "ds_era5_t2m_box_0629_mean = ds_era5_t2m_box_mean[15]\n",
    "ds_era5_t850_box_0629_mean = ds_era5_t850_box_mean[15]\n",
    "ds_era5_z500_box_0629_mean = ds_era5_z500_box_mean[15]"
   ]
  },
  {
   "cell_type": "code",
   "execution_count": null,
   "id": "eaa5ac8b-bb4e-41bb-aa5e-20a997527bc6",
   "metadata": {},
   "outputs": [],
   "source": []
  },
  {
   "cell_type": "code",
   "execution_count": null,
   "id": "2a429be6-9c20-48c8-97ca-5cefba6173f5",
   "metadata": {},
   "outputs": [],
   "source": []
  },
  {
   "cell_type": "code",
   "execution_count": null,
   "id": "9eabb359-6cfd-4b58-88c0-a53c12f06c39",
   "metadata": {},
   "outputs": [],
   "source": []
  },
  {
   "cell_type": "code",
   "execution_count": null,
   "id": "2bce5df2-772f-4cad-b4dd-cc4c15fb9fcf",
   "metadata": {},
   "outputs": [],
   "source": []
  },
  {
   "cell_type": "code",
   "execution_count": null,
   "id": "759e5dc2-7445-441f-b6d8-3c41149cac9d",
   "metadata": {},
   "outputs": [],
   "source": []
  },
  {
   "cell_type": "code",
   "execution_count": null,
   "id": "6cc6a4cf-48d1-408b-b2de-c2aef6d08233",
   "metadata": {},
   "outputs": [],
   "source": []
  },
  {
   "cell_type": "code",
   "execution_count": null,
   "id": "44495537-85f1-454d-8604-c31d284392d7",
   "metadata": {},
   "outputs": [],
   "source": []
  },
  {
   "cell_type": "code",
   "execution_count": null,
   "id": "2bc3fe94-6eac-40a4-8984-897af9482c97",
   "metadata": {},
   "outputs": [],
   "source": []
  },
  {
   "cell_type": "code",
   "execution_count": null,
   "id": "5f205e80-11a4-4d51-98b3-33d6ab538d04",
   "metadata": {},
   "outputs": [],
   "source": []
  }
 ],
 "metadata": {
  "kernelspec": {
   "display_name": "newenvi1",
   "language": "python",
   "name": "newenvi1"
  },
  "language_info": {
   "codemirror_mode": {
    "name": "ipython",
    "version": 3
   },
   "file_extension": ".py",
   "mimetype": "text/x-python",
   "name": "python",
   "nbconvert_exporter": "python",
   "pygments_lexer": "ipython3",
   "version": "3.9.7"
  }
 },
 "nbformat": 4,
 "nbformat_minor": 5
}
