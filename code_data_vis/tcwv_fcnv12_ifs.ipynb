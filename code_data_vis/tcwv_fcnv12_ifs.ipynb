{
 "cells": [
  {
   "cell_type": "code",
   "execution_count": 1,
   "id": "901aa80a-4f7e-4d43-9771-bd875c6485b2",
   "metadata": {},
   "outputs": [],
   "source": [
    "import numpy as np\n",
    "import h5py\n",
    "import matplotlib.pyplot as plt\n",
    "import re\n",
    "import cartopy.crs as ccrs\n",
    "import cartopy.feature as cfeature\n",
    "import xarray as xr\n",
    "import matplotlib. patches as patches\n",
    "import os\n",
    "import cartopy.mpl.ticker as cticker\n",
    "from cartopy.mpl.gridliner import LONGITUDE_FORMATTER, LATITUDE_FORMATTER\n",
    "from plotly.subplots import make_subplots\n",
    "import plotly.graph_objects as go\n",
    "import pandas as pd\n",
    "import matplotlib.dates as mdates\n",
    "import matplotlib.colors as mcolors\n",
    "from matplotlib.colors import TwoSlopeNorm"
   ]
  },
  {
   "cell_type": "code",
   "execution_count": null,
   "id": "581fd768-5c6b-4897-b0c9-fad8c8c02a32",
   "metadata": {},
   "outputs": [],
   "source": [
    "################################################### load fcnv2 control forecast data #################################################################################"
   ]
  },
  {
   "cell_type": "code",
   "execution_count": 2,
   "id": "d9a24130-3cb2-418b-a45f-78e0603ca14e",
   "metadata": {},
   "outputs": [
    {
     "ename": "NameError",
     "evalue": "name 'read_fcnv2_forecast' is not defined",
     "output_type": "error",
     "traceback": [
      "\u001b[0;31m---------------------------------------------------------------------------\u001b[0m",
      "\u001b[0;31mNameError\u001b[0m                                 Traceback (most recent call last)",
      "Cell \u001b[0;32mIn[2], line 7\u001b[0m\n\u001b[1;32m      5\u001b[0m \u001b[38;5;28;01mfor\u001b[39;00m date \u001b[38;5;129;01min\u001b[39;00m date_range:\n\u001b[1;32m      6\u001b[0m     date_str \u001b[38;5;241m=\u001b[39m date\u001b[38;5;241m.\u001b[39mstrftime(\u001b[38;5;124m'\u001b[39m\u001b[38;5;124m%\u001b[39m\u001b[38;5;124mY-\u001b[39m\u001b[38;5;124m%\u001b[39m\u001b[38;5;124mm-\u001b[39m\u001b[38;5;132;01m%d\u001b[39;00m\u001b[38;5;124m'\u001b[39m)  \u001b[38;5;66;03m# Convert datetime to string\u001b[39;00m\n\u001b[0;32m----> 7\u001b[0m     ds \u001b[38;5;241m=\u001b[39m \u001b[43mread_fcnv2_forecast\u001b[49m(date_str,\u001b[38;5;124m'\u001b[39m\u001b[38;5;124mec\u001b[39m\u001b[38;5;124m'\u001b[39m)\n\u001b[1;32m      8\u001b[0m     \u001b[38;5;28;01mif\u001b[39;00m ds \u001b[38;5;129;01mis\u001b[39;00m \u001b[38;5;129;01mnot\u001b[39;00m \u001b[38;5;28;01mNone\u001b[39;00m:\n\u001b[1;32m      9\u001b[0m         ds_fcnv2_ec\u001b[38;5;241m.\u001b[39mappend(ds)\n",
      "\u001b[0;31mNameError\u001b[0m: name 'read_fcnv2_forecast' is not defined"
     ]
    }
   ],
   "source": [
    "#read data from 2021-06-14 to 2021-06-24\n",
    "date_range = pd.date_range(start='2021-06-14', end='2021-06-29', freq='D')\n",
    "ds_fcnv2_ec = []\n",
    "\n",
    "for date in date_range:\n",
    "    date_str = date.strftime('%Y-%m-%d')  # Convert datetime to string\n",
    "    ds = read_fcnv2_forecast(date_str,'ec')\n",
    "    if ds is not None:\n",
    "        ds_fcnv2_ec.append(ds)"
   ]
  },
  {
   "cell_type": "code",
   "execution_count": null,
   "id": "98599f75-f8fe-4af2-924f-c54ff3f1c5c8",
   "metadata": {},
   "outputs": [],
   "source": [
    "ds_fcnv2_ec_cf_T_landbox_0614 = ds_fcnv2_ec[0].t[31:60,:,164:123:-1,940:981]\n",
    "ds_fcnv2_ec_cf_T_landbox_0614_mean = np.mean(ds_fcnv2_ec_cf_T_landbox_0614,axis=(-1,-2))\n",
    "\n",
    "ds_fcnv2_ec_cf_T_landbox_0616 = ds_fcnv2_ec[2].t[23:60,:,164:123:-1,940:981]\n",
    "ds_fcnv2_ec_cf_T_landbox_0616_mean = np.mean(ds_fcnv2_ec_cf_T_landbox_0616,axis=(-1,-2))\n",
    "\n",
    "ds_fcnv2_ec_cf_T_landbox_0618 = ds_fcnv2_ec[4].t[15:60,:,164:123:-1,940:981]\n",
    "ds_fcnv2_ec_cf_T_landbox_0618_mean = np.mean(ds_fcnv2_ec_cf_T_landbox_0618,axis=(-1,-2))\n",
    "\n",
    "ds_fcnv2_ec_cf_T_landbox_0620 = ds_fcnv2_ec[6].t[7:60,:,164:123:-1,940:981]\n",
    "ds_fcnv2_ec_cf_T_landbox_0620_mean = np.mean(ds_fcnv2_ec_cf_T_landbox_0620,axis=(-1,-2))\n",
    "\n",
    "ds_fcnv2_ec_cf_T_landbox_0622 = ds_fcnv2_ec[8].t[0:60,:,164:123:-1,940:981]\n",
    "ds_fcnv2_ec_cf_T_landbox_0622_mean = np.mean(ds_fcnv2_ec_cf_T_landbox_0622,axis=(-1,-2))\n",
    "\n",
    "ds_fcnv2_ec_cf_T_landbox_0623 = ds_fcnv2_ec[9].t[0:60,:,164:123:-1,940:981]\n",
    "ds_fcnv2_ec_cf_T_landbox_0623_mean = np.mean(ds_fcnv2_ec_cf_T_landbox_0623,axis=(-1,-2))"
   ]
  },
  {
   "cell_type": "code",
   "execution_count": null,
   "id": "f2cad5f5-06a6-4e85-ac8d-85542165ff98",
   "metadata": {},
   "outputs": [],
   "source": []
  },
  {
   "cell_type": "code",
   "execution_count": null,
   "id": "2ba5c859-c5d7-4624-b56e-d53eeec4f9a4",
   "metadata": {},
   "outputs": [],
   "source": []
  },
  {
   "cell_type": "code",
   "execution_count": null,
   "id": "5ab02919-9029-4794-aeb5-b693f4fe20fe",
   "metadata": {},
   "outputs": [],
   "source": []
  }
 ],
 "metadata": {
  "kernelspec": {
   "display_name": "newenvi4",
   "language": "python",
   "name": "newenvi4"
  },
  "language_info": {
   "codemirror_mode": {
    "name": "ipython",
    "version": 3
   },
   "file_extension": ".py",
   "mimetype": "text/x-python",
   "name": "python",
   "nbconvert_exporter": "python",
   "pygments_lexer": "ipython3",
   "version": "3.9.19"
  }
 },
 "nbformat": 4,
 "nbformat_minor": 5
}
