{
 "cells": [
  {
   "cell_type": "code",
   "execution_count": null,
   "id": "8cfa8758-eb78-4774-b095-5dad3801ce52",
   "metadata": {
    "tags": []
   },
   "outputs": [],
   "source": []
  },
  {
   "cell_type": "code",
   "execution_count": null,
   "id": "d988a731-b3c9-483d-804b-50da618ab456",
   "metadata": {
    "tags": []
   },
   "outputs": [],
   "source": [
    "import numpy as np\n",
    "import h5py\n",
    "import matplotlib.pyplot as plt\n",
    "#import os\n",
    "import cartopy.crs as ccrs\n",
    "import cartopy.feature as cfeature\n",
    "import xarray as xr\n",
    "import matplotlib.patches as patches\n",
    "import os\n",
    "import cartopy.mpl.ticker as cticker\n",
    "from cartopy.mpl.gridliner import LONGITUDE_FORMATTER, LATITUDE_FORMATTER\n",
    "from plotly.subplots import make_subplots\n",
    "import plotly.graph_objects as go\n",
    "import re\n",
    "import datetime\n",
    "import pandas as pd\n",
    "import matplotlib.dates as mdates"
   ]
  },
  {
   "cell_type": "code",
   "execution_count": null,
   "id": "a48dc3db-658f-4b88-90e1-2a9852113f15",
   "metadata": {
    "tags": []
   },
   "outputs": [],
   "source": []
  },
  {
   "cell_type": "code",
   "execution_count": null,
   "id": "6059ded4-f965-4976-aa47-742a9d0117c9",
   "metadata": {
    "tags": []
   },
   "outputs": [],
   "source": [
    "#data check\n",
    "#another way to check the era5 data\n",
    "ds_era = xr.open_dataset('/pfs/work7/workspace/scratch/ab6801-fourcastnet/era5/2021.h5')\n",
    "ds_era"
   ]
  },
  {
   "cell_type": "code",
   "execution_count": null,
   "id": "c01857d4-2a64-406d-bbb4-973a13fdf269",
   "metadata": {
    "tags": []
   },
   "outputs": [],
   "source": [
    "#phony_dim_0: 1460(timestep); phony_dim_1: 20(variable); phony_dim_2: 721(longitude); phony_dim_3: 144(latitude)\n",
    "\n",
    "\n",
    "#fcn-based on ECMWF initial conditions plots\n",
    "\n",
    "\n",
    "ds_fcn_ecmwf = xr.open_dataset('/pfs/work7/workspace/scratch/ab6801-fourcastnet/fourcastnet/with_ecmwf_ic/20210704_00_backtransformed.nc')\n",
    "ds_fcn_ecmwf\n",
    "\n",
    "ds_fcn_ecmwf.forecast[50,0,2,::-1,:]\n",
    "ds_era.fields[709,2,260:40:-1,720:1200]\n",
    "\n",
    "ds_ecmwf = xr.open_dataset('/lsdf/kit/imk-tro/projects/MOD/Gruppe_Grams/nk2448/2023_FourCastNet/Yangfan/validation/fc_cf_20210614_00_sfc.nc')\n",
    "ds_ecmwf\n",
    "\n",
    "lon_ec = ds_ecmwf['longitude']\n",
    "lat_ec = ds_ecmwf['latitude']\n",
    "\n",
    "lat_ec"
   ]
  },
  {
   "cell_type": "code",
   "execution_count": 3,
   "id": "9fd49479-25c6-4f7e-89db-b116db5949ff",
   "metadata": {
    "tags": []
   },
   "outputs": [],
   "source": [
    "#check for the index of lat and lon for the box-ecmwf\n",
    "rightlon = -111.50\n",
    "leftlon = -131.50\n",
    "toplat = 60.25\n",
    "bottomlat = 40.25\n",
    "\n",
    "indices_toplat = np.where(lat_ec == toplat)[0]\n",
    "indices_bottomlat = np.where(lat_ec == bottomlat)[0]\n",
    "indices_rightlon = np.where(lon_ec == rightlon)[0]\n",
    "indices_leftlon = np.where(lon_ec == leftlon)[0]"
   ]
  },
  {
   "cell_type": "code",
   "execution_count": 4,
   "id": "15c6b693-7361-4d88-87e9-ac4c14bd3ea0",
   "metadata": {
    "tags": []
   },
   "outputs": [
    {
     "data": {
      "text/plain": [
       "array([79])"
      ]
     },
     "execution_count": 4,
     "metadata": {},
     "output_type": "execute_result"
    }
   ],
   "source": [
    "indices_toplat"
   ]
  },
  {
   "cell_type": "code",
   "execution_count": 5,
   "id": "6c53c771-65a8-4a87-9b1f-db2c3e9d12d5",
   "metadata": {
    "tags": []
   },
   "outputs": [
    {
     "data": {
      "text/plain": [
       "array([159])"
      ]
     },
     "execution_count": 5,
     "metadata": {},
     "output_type": "execute_result"
    }
   ],
   "source": [
    "indices_bottomlat"
   ]
  },
  {
   "cell_type": "code",
   "execution_count": 6,
   "id": "6a4f252d-ec09-4912-90a7-9c72ee327601",
   "metadata": {
    "tags": []
   },
   "outputs": [
    {
     "data": {
      "text/plain": [
       "array([274])"
      ]
     },
     "execution_count": 6,
     "metadata": {},
     "output_type": "execute_result"
    }
   ],
   "source": [
    "indices_rightlon"
   ]
  },
  {
   "cell_type": "code",
   "execution_count": 7,
   "id": "4faa3c22-eace-45c5-bd2e-28f74e427855",
   "metadata": {
    "tags": []
   },
   "outputs": [
    {
     "data": {
      "text/plain": [
       "array([194])"
      ]
     },
     "execution_count": 7,
     "metadata": {},
     "output_type": "execute_result"
    }
   ],
   "source": [
    "indices_leftlon"
   ]
  },
  {
   "cell_type": "code",
   "execution_count": 8,
   "id": "50558794-2f52-4a2d-9e70-04144ed4b72e",
   "metadata": {
    "tags": []
   },
   "outputs": [
    {
     "data": {
      "text/html": [
       "<div><svg style=\"position: absolute; width: 0; height: 0; overflow: hidden\">\n",
       "<defs>\n",
       "<symbol id=\"icon-database\" viewBox=\"0 0 32 32\">\n",
       "<path d=\"M16 0c-8.837 0-16 2.239-16 5v4c0 2.761 7.163 5 16 5s16-2.239 16-5v-4c0-2.761-7.163-5-16-5z\"></path>\n",
       "<path d=\"M16 17c-8.837 0-16-2.239-16-5v6c0 2.761 7.163 5 16 5s16-2.239 16-5v-6c0 2.761-7.163 5-16 5z\"></path>\n",
       "<path d=\"M16 26c-8.837 0-16-2.239-16-5v6c0 2.761 7.163 5 16 5s16-2.239 16-5v-6c0 2.761-7.163 5-16 5z\"></path>\n",
       "</symbol>\n",
       "<symbol id=\"icon-file-text2\" viewBox=\"0 0 32 32\">\n",
       "<path d=\"M28.681 7.159c-0.694-0.947-1.662-2.053-2.724-3.116s-2.169-2.030-3.116-2.724c-1.612-1.182-2.393-1.319-2.841-1.319h-15.5c-1.378 0-2.5 1.121-2.5 2.5v27c0 1.378 1.122 2.5 2.5 2.5h23c1.378 0 2.5-1.122 2.5-2.5v-19.5c0-0.448-0.137-1.23-1.319-2.841zM24.543 5.457c0.959 0.959 1.712 1.825 2.268 2.543h-4.811v-4.811c0.718 0.556 1.584 1.309 2.543 2.268zM28 29.5c0 0.271-0.229 0.5-0.5 0.5h-23c-0.271 0-0.5-0.229-0.5-0.5v-27c0-0.271 0.229-0.5 0.5-0.5 0 0 15.499-0 15.5 0v7c0 0.552 0.448 1 1 1h7v19.5z\"></path>\n",
       "<path d=\"M23 26h-14c-0.552 0-1-0.448-1-1s0.448-1 1-1h14c0.552 0 1 0.448 1 1s-0.448 1-1 1z\"></path>\n",
       "<path d=\"M23 22h-14c-0.552 0-1-0.448-1-1s0.448-1 1-1h14c0.552 0 1 0.448 1 1s-0.448 1-1 1z\"></path>\n",
       "<path d=\"M23 18h-14c-0.552 0-1-0.448-1-1s0.448-1 1-1h14c0.552 0 1 0.448 1 1s-0.448 1-1 1z\"></path>\n",
       "</symbol>\n",
       "</defs>\n",
       "</svg>\n",
       "<style>/* CSS stylesheet for displaying xarray objects in jupyterlab.\n",
       " *\n",
       " */\n",
       "\n",
       ":root {\n",
       "  --xr-font-color0: var(--jp-content-font-color0, rgba(0, 0, 0, 1));\n",
       "  --xr-font-color2: var(--jp-content-font-color2, rgba(0, 0, 0, 0.54));\n",
       "  --xr-font-color3: var(--jp-content-font-color3, rgba(0, 0, 0, 0.38));\n",
       "  --xr-border-color: var(--jp-border-color2, #e0e0e0);\n",
       "  --xr-disabled-color: var(--jp-layout-color3, #bdbdbd);\n",
       "  --xr-background-color: var(--jp-layout-color0, white);\n",
       "  --xr-background-color-row-even: var(--jp-layout-color1, white);\n",
       "  --xr-background-color-row-odd: var(--jp-layout-color2, #eeeeee);\n",
       "}\n",
       "\n",
       "html[theme=dark],\n",
       "body[data-theme=dark],\n",
       "body.vscode-dark {\n",
       "  --xr-font-color0: rgba(255, 255, 255, 1);\n",
       "  --xr-font-color2: rgba(255, 255, 255, 0.54);\n",
       "  --xr-font-color3: rgba(255, 255, 255, 0.38);\n",
       "  --xr-border-color: #1F1F1F;\n",
       "  --xr-disabled-color: #515151;\n",
       "  --xr-background-color: #111111;\n",
       "  --xr-background-color-row-even: #111111;\n",
       "  --xr-background-color-row-odd: #313131;\n",
       "}\n",
       "\n",
       ".xr-wrap {\n",
       "  display: block !important;\n",
       "  min-width: 300px;\n",
       "  max-width: 700px;\n",
       "}\n",
       "\n",
       ".xr-text-repr-fallback {\n",
       "  /* fallback to plain text repr when CSS is not injected (untrusted notebook) */\n",
       "  display: none;\n",
       "}\n",
       "\n",
       ".xr-header {\n",
       "  padding-top: 6px;\n",
       "  padding-bottom: 6px;\n",
       "  margin-bottom: 4px;\n",
       "  border-bottom: solid 1px var(--xr-border-color);\n",
       "}\n",
       "\n",
       ".xr-header > div,\n",
       ".xr-header > ul {\n",
       "  display: inline;\n",
       "  margin-top: 0;\n",
       "  margin-bottom: 0;\n",
       "}\n",
       "\n",
       ".xr-obj-type,\n",
       ".xr-array-name {\n",
       "  margin-left: 2px;\n",
       "  margin-right: 10px;\n",
       "}\n",
       "\n",
       ".xr-obj-type {\n",
       "  color: var(--xr-font-color2);\n",
       "}\n",
       "\n",
       ".xr-sections {\n",
       "  padding-left: 0 !important;\n",
       "  display: grid;\n",
       "  grid-template-columns: 150px auto auto 1fr 20px 20px;\n",
       "}\n",
       "\n",
       ".xr-section-item {\n",
       "  display: contents;\n",
       "}\n",
       "\n",
       ".xr-section-item input {\n",
       "  display: none;\n",
       "}\n",
       "\n",
       ".xr-section-item input + label {\n",
       "  color: var(--xr-disabled-color);\n",
       "}\n",
       "\n",
       ".xr-section-item input:enabled + label {\n",
       "  cursor: pointer;\n",
       "  color: var(--xr-font-color2);\n",
       "}\n",
       "\n",
       ".xr-section-item input:enabled + label:hover {\n",
       "  color: var(--xr-font-color0);\n",
       "}\n",
       "\n",
       ".xr-section-summary {\n",
       "  grid-column: 1;\n",
       "  color: var(--xr-font-color2);\n",
       "  font-weight: 500;\n",
       "}\n",
       "\n",
       ".xr-section-summary > span {\n",
       "  display: inline-block;\n",
       "  padding-left: 0.5em;\n",
       "}\n",
       "\n",
       ".xr-section-summary-in:disabled + label {\n",
       "  color: var(--xr-font-color2);\n",
       "}\n",
       "\n",
       ".xr-section-summary-in + label:before {\n",
       "  display: inline-block;\n",
       "  content: '►';\n",
       "  font-size: 11px;\n",
       "  width: 15px;\n",
       "  text-align: center;\n",
       "}\n",
       "\n",
       ".xr-section-summary-in:disabled + label:before {\n",
       "  color: var(--xr-disabled-color);\n",
       "}\n",
       "\n",
       ".xr-section-summary-in:checked + label:before {\n",
       "  content: '▼';\n",
       "}\n",
       "\n",
       ".xr-section-summary-in:checked + label > span {\n",
       "  display: none;\n",
       "}\n",
       "\n",
       ".xr-section-summary,\n",
       ".xr-section-inline-details {\n",
       "  padding-top: 4px;\n",
       "  padding-bottom: 4px;\n",
       "}\n",
       "\n",
       ".xr-section-inline-details {\n",
       "  grid-column: 2 / -1;\n",
       "}\n",
       "\n",
       ".xr-section-details {\n",
       "  display: none;\n",
       "  grid-column: 1 / -1;\n",
       "  margin-bottom: 5px;\n",
       "}\n",
       "\n",
       ".xr-section-summary-in:checked ~ .xr-section-details {\n",
       "  display: contents;\n",
       "}\n",
       "\n",
       ".xr-array-wrap {\n",
       "  grid-column: 1 / -1;\n",
       "  display: grid;\n",
       "  grid-template-columns: 20px auto;\n",
       "}\n",
       "\n",
       ".xr-array-wrap > label {\n",
       "  grid-column: 1;\n",
       "  vertical-align: top;\n",
       "}\n",
       "\n",
       ".xr-preview {\n",
       "  color: var(--xr-font-color3);\n",
       "}\n",
       "\n",
       ".xr-array-preview,\n",
       ".xr-array-data {\n",
       "  padding: 0 5px !important;\n",
       "  grid-column: 2;\n",
       "}\n",
       "\n",
       ".xr-array-data,\n",
       ".xr-array-in:checked ~ .xr-array-preview {\n",
       "  display: none;\n",
       "}\n",
       "\n",
       ".xr-array-in:checked ~ .xr-array-data,\n",
       ".xr-array-preview {\n",
       "  display: inline-block;\n",
       "}\n",
       "\n",
       ".xr-dim-list {\n",
       "  display: inline-block !important;\n",
       "  list-style: none;\n",
       "  padding: 0 !important;\n",
       "  margin: 0;\n",
       "}\n",
       "\n",
       ".xr-dim-list li {\n",
       "  display: inline-block;\n",
       "  padding: 0;\n",
       "  margin: 0;\n",
       "}\n",
       "\n",
       ".xr-dim-list:before {\n",
       "  content: '(';\n",
       "}\n",
       "\n",
       ".xr-dim-list:after {\n",
       "  content: ')';\n",
       "}\n",
       "\n",
       ".xr-dim-list li:not(:last-child):after {\n",
       "  content: ',';\n",
       "  padding-right: 5px;\n",
       "}\n",
       "\n",
       ".xr-has-index {\n",
       "  font-weight: bold;\n",
       "}\n",
       "\n",
       ".xr-var-list,\n",
       ".xr-var-item {\n",
       "  display: contents;\n",
       "}\n",
       "\n",
       ".xr-var-item > div,\n",
       ".xr-var-item label,\n",
       ".xr-var-item > .xr-var-name span {\n",
       "  background-color: var(--xr-background-color-row-even);\n",
       "  margin-bottom: 0;\n",
       "}\n",
       "\n",
       ".xr-var-item > .xr-var-name:hover span {\n",
       "  padding-right: 5px;\n",
       "}\n",
       "\n",
       ".xr-var-list > li:nth-child(odd) > div,\n",
       ".xr-var-list > li:nth-child(odd) > label,\n",
       ".xr-var-list > li:nth-child(odd) > .xr-var-name span {\n",
       "  background-color: var(--xr-background-color-row-odd);\n",
       "}\n",
       "\n",
       ".xr-var-name {\n",
       "  grid-column: 1;\n",
       "}\n",
       "\n",
       ".xr-var-dims {\n",
       "  grid-column: 2;\n",
       "}\n",
       "\n",
       ".xr-var-dtype {\n",
       "  grid-column: 3;\n",
       "  text-align: right;\n",
       "  color: var(--xr-font-color2);\n",
       "}\n",
       "\n",
       ".xr-var-preview {\n",
       "  grid-column: 4;\n",
       "}\n",
       "\n",
       ".xr-index-preview {\n",
       "  grid-column: 2 / 5;\n",
       "  color: var(--xr-font-color2);\n",
       "}\n",
       "\n",
       ".xr-var-name,\n",
       ".xr-var-dims,\n",
       ".xr-var-dtype,\n",
       ".xr-preview,\n",
       ".xr-attrs dt {\n",
       "  white-space: nowrap;\n",
       "  overflow: hidden;\n",
       "  text-overflow: ellipsis;\n",
       "  padding-right: 10px;\n",
       "}\n",
       "\n",
       ".xr-var-name:hover,\n",
       ".xr-var-dims:hover,\n",
       ".xr-var-dtype:hover,\n",
       ".xr-attrs dt:hover {\n",
       "  overflow: visible;\n",
       "  width: auto;\n",
       "  z-index: 1;\n",
       "}\n",
       "\n",
       ".xr-var-attrs,\n",
       ".xr-var-data,\n",
       ".xr-index-data {\n",
       "  display: none;\n",
       "  background-color: var(--xr-background-color) !important;\n",
       "  padding-bottom: 5px !important;\n",
       "}\n",
       "\n",
       ".xr-var-attrs-in:checked ~ .xr-var-attrs,\n",
       ".xr-var-data-in:checked ~ .xr-var-data,\n",
       ".xr-index-data-in:checked ~ .xr-index-data {\n",
       "  display: block;\n",
       "}\n",
       "\n",
       ".xr-var-data > table {\n",
       "  float: right;\n",
       "}\n",
       "\n",
       ".xr-var-name span,\n",
       ".xr-var-data,\n",
       ".xr-index-name div,\n",
       ".xr-index-data,\n",
       ".xr-attrs {\n",
       "  padding-left: 25px !important;\n",
       "}\n",
       "\n",
       ".xr-attrs,\n",
       ".xr-var-attrs,\n",
       ".xr-var-data,\n",
       ".xr-index-data {\n",
       "  grid-column: 1 / -1;\n",
       "}\n",
       "\n",
       "dl.xr-attrs {\n",
       "  padding: 0;\n",
       "  margin: 0;\n",
       "  display: grid;\n",
       "  grid-template-columns: 125px auto;\n",
       "}\n",
       "\n",
       ".xr-attrs dt,\n",
       ".xr-attrs dd {\n",
       "  padding: 0;\n",
       "  margin: 0;\n",
       "  float: left;\n",
       "  padding-right: 10px;\n",
       "  width: auto;\n",
       "}\n",
       "\n",
       ".xr-attrs dt {\n",
       "  font-weight: normal;\n",
       "  grid-column: 1;\n",
       "}\n",
       "\n",
       ".xr-attrs dt:hover span {\n",
       "  display: inline-block;\n",
       "  background: var(--xr-background-color);\n",
       "  padding-right: 10px;\n",
       "}\n",
       "\n",
       ".xr-attrs dd {\n",
       "  grid-column: 2;\n",
       "  white-space: pre-wrap;\n",
       "  word-break: break-all;\n",
       "}\n",
       "\n",
       ".xr-icon-database,\n",
       ".xr-icon-file-text2,\n",
       ".xr-no-icon {\n",
       "  display: inline-block;\n",
       "  vertical-align: middle;\n",
       "  width: 1em;\n",
       "  height: 1.5em !important;\n",
       "  stroke-width: 0;\n",
       "  stroke: currentColor;\n",
       "  fill: currentColor;\n",
       "}\n",
       "</style><pre class='xr-text-repr-fallback'>&lt;xarray.DataArray (dim_0: 21, dim_1: 57)&gt;\n",
       "array([[291.70703, 286.1615 , 283.22815, ..., 284.6459 , 290.33533,\n",
       "        291.5221 ],\n",
       "       [291.96188, 286.339  , 283.43274, ..., 284.31247, 290.37762,\n",
       "        291.0119 ],\n",
       "       [288.3087 , 283.8899 , 281.55707, ..., 285.71738, 291.6278 ,\n",
       "        293.80847],\n",
       "       ...,\n",
       "       [295.52722, 290.61417, 287.7209 , ..., 285.25778, 291.68387,\n",
       "        294.01172],\n",
       "       [294.1679 , 289.59183, 286.5282 , ..., 289.29706, 296.9091 ,\n",
       "        298.93555],\n",
       "       [293.778  , 289.14584, 286.06363, ..., 284.82907, 291.46527,\n",
       "        293.41467]], dtype=float32)\n",
       "Dimensions without coordinates: dim_0, dim_1</pre><div class='xr-wrap' style='display:none'><div class='xr-header'><div class='xr-obj-type'>xarray.DataArray</div><div class='xr-array-name'></div><ul class='xr-dim-list'><li><span>dim_0</span>: 21</li><li><span>dim_1</span>: 57</li></ul></div><ul class='xr-sections'><li class='xr-section-item'><div class='xr-array-wrap'><input id='section-129b148b-3d08-4671-a496-a4d8153d3a5c' class='xr-array-in' type='checkbox' checked><label for='section-129b148b-3d08-4671-a496-a4d8153d3a5c' title='Show/hide data repr'><svg class='icon xr-icon-database'><use xlink:href='#icon-database'></use></svg></label><div class='xr-array-preview xr-preview'><span>291.7 286.2 283.2 290.9 292.4 286.4 ... 293.3 287.8 284.8 291.5 293.4</span></div><div class='xr-array-data'><pre>array([[291.70703, 286.1615 , 283.22815, ..., 284.6459 , 290.33533,\n",
       "        291.5221 ],\n",
       "       [291.96188, 286.339  , 283.43274, ..., 284.31247, 290.37762,\n",
       "        291.0119 ],\n",
       "       [288.3087 , 283.8899 , 281.55707, ..., 285.71738, 291.6278 ,\n",
       "        293.80847],\n",
       "       ...,\n",
       "       [295.52722, 290.61417, 287.7209 , ..., 285.25778, 291.68387,\n",
       "        294.01172],\n",
       "       [294.1679 , 289.59183, 286.5282 , ..., 289.29706, 296.9091 ,\n",
       "        298.93555],\n",
       "       [293.778  , 289.14584, 286.06363, ..., 284.82907, 291.46527,\n",
       "        293.41467]], dtype=float32)</pre></div></div></li><li class='xr-section-item'><input id='section-3d9419fb-d4b4-4787-b09e-b081ccddc526' class='xr-section-summary-in' type='checkbox' disabled ><label for='section-3d9419fb-d4b4-4787-b09e-b081ccddc526' class='xr-section-summary'  title='Expand/collapse section'>Coordinates: <span>(0)</span></label><div class='xr-section-inline-details'></div><div class='xr-section-details'><ul class='xr-var-list'></ul></div></li><li class='xr-section-item'><input id='section-dad0230b-5b92-4a05-940e-ee6f9ee1c9c5' class='xr-section-summary-in' type='checkbox' disabled ><label for='section-dad0230b-5b92-4a05-940e-ee6f9ee1c9c5' class='xr-section-summary'  title='Expand/collapse section'>Indexes: <span>(0)</span></label><div class='xr-section-inline-details'></div><div class='xr-section-details'><ul class='xr-var-list'></ul></div></li><li class='xr-section-item'><input id='section-4ad58d8a-c787-4517-bd5b-d02c648b5ba4' class='xr-section-summary-in' type='checkbox' disabled ><label for='section-4ad58d8a-c787-4517-bd5b-d02c648b5ba4' class='xr-section-summary'  title='Expand/collapse section'>Attributes: <span>(0)</span></label><div class='xr-section-inline-details'></div><div class='xr-section-details'><dl class='xr-attrs'></dl></div></li></ul></div></div>"
      ],
      "text/plain": [
       "<xarray.DataArray (dim_0: 21, dim_1: 57)>\n",
       "array([[291.70703, 286.1615 , 283.22815, ..., 284.6459 , 290.33533,\n",
       "        291.5221 ],\n",
       "       [291.96188, 286.339  , 283.43274, ..., 284.31247, 290.37762,\n",
       "        291.0119 ],\n",
       "       [288.3087 , 283.8899 , 281.55707, ..., 285.71738, 291.6278 ,\n",
       "        293.80847],\n",
       "       ...,\n",
       "       [295.52722, 290.61417, 287.7209 , ..., 285.25778, 291.68387,\n",
       "        294.01172],\n",
       "       [294.1679 , 289.59183, 286.5282 , ..., 289.29706, 296.9091 ,\n",
       "        298.93555],\n",
       "       [293.778  , 289.14584, 286.06363, ..., 284.82907, 291.46527,\n",
       "        293.41467]], dtype=float32)\n",
       "Dimensions without coordinates: dim_0, dim_1"
      ]
     },
     "execution_count": 8,
     "metadata": {},
     "output_type": "execute_result"
    }
   ],
   "source": [
    "#ECMWF\n",
    "directory = '/lsdf/kit/imk-tro/projects/MOD/Gruppe_Grams/nk2448/2023_FourCastNet/Yangfan/validation/'\n",
    "filename_pattern = r'fc_cf_\\d{8}_\\d{2}_sfc\\.nc'\n",
    "\n",
    "files = sorted([f for f in os.listdir(directory) if re.match(filename_pattern, f)])\n",
    "files\n",
    "\n",
    "data_ec = []\n",
    "for file in files:\n",
    "    file_path = os.path.join(directory, file)\n",
    "    # Extract the date from the filename\n",
    "    #date_str = re.search(r'\\d{8}_\\d{2}', file).group(0)\n",
    "    #date = datetime.datetime.strptime(date_str, '%Y%m%d_%H').date()\n",
    "    # Read the file and extract the desired variable\n",
    "    ds = xr.open_dataset(file_path)\n",
    "    variable_data = ds['t2m'] \n",
    "\n",
    "    #time_coord = xr.DataArray([date], dims='time1', coords={'time1': [date]})\n",
    "    #variable_data = variable_data.expand_dims(dim='time1')\n",
    "    #variable_data = variable_data.assign_coords(time=time_coord)\n",
    "\n",
    "    data_ec.append(variable_data)\n",
    "\n",
    "#combined_data = xr.concat(data, dim='time1')\n",
    "#combined_data\n",
    "#combined_data[0,:,119,234]\n",
    "np.shape(data_ec)\n",
    "\n",
    "#ds_ecmwf.t2m[0,79:159,194:274]\n",
    "data_array_ec =xr.DataArray(data_ec)\n",
    "#data_array_ec[:,0,0,0]\n",
    "mean_ecmwf = np.mean(data_array_ec[:,:,79:159,194:274], axis=(-2, -1))\n",
    "mean_ecmwf"
   ]
  },
  {
   "cell_type": "code",
   "execution_count": 9,
   "id": "c0e280fb-681e-463c-a3aa-8720f3279c27",
   "metadata": {
    "tags": []
   },
   "outputs": [],
   "source": [
    "ec_614 = mean_ecmwf[0,56]\n",
    "ec_615 = mean_ecmwf[1,52]\n",
    "ec_616 = mean_ecmwf[2,48]\n",
    "ec_617 = mean_ecmwf[3,44]\n",
    "ec_618 = mean_ecmwf[4,40]"
   ]
  },
  {
   "cell_type": "code",
   "execution_count": null,
   "id": "32bddf61-0989-401f-b0ea-e7824c0846e5",
   "metadata": {
    "tags": []
   },
   "outputs": [],
   "source": []
  },
  {
   "cell_type": "code",
   "execution_count": 10,
   "id": "c6590d65-6bc4-4ad2-9e90-5606451f9676",
   "metadata": {
    "tags": []
   },
   "outputs": [],
   "source": [
    "start_index = 56\n",
    "step_size = 1\n",
    "num_iterations =15\n",
    "ec_values=[]\n",
    "for i in range(num_iterations):\n",
    "    ec_value = mean_ecmwf[(i+1) * step_size, start_index - i * step_size*4]\n",
    "    ec_values.append(ec_value)\n",
    "data_array_ec_values =xr.DataArray(ec_values)\n",
    "#%store data_array_ec_values_cf\n",
    "#np.shape(data_array_ec_values)"
   ]
  },
  {
   "cell_type": "code",
   "execution_count": null,
   "id": "86568bdc-74af-4525-934e-9e4d6458cebb",
   "metadata": {
    "tags": []
   },
   "outputs": [],
   "source": []
  },
  {
   "cell_type": "code",
   "execution_count": 11,
   "id": "22cbe0f7-c4fb-4e27-89c9-040264a2aff2",
   "metadata": {
    "tags": []
   },
   "outputs": [],
   "source": [
    "#era5 file index checking\n",
    "# Assuming you have longitude and latitude arrays with 0.25-degree resolution\n",
    "lat = np.linspace(25, 80, 220)\n",
    "lon = np.linspace(-180, -60, 480)\n",
    "\n",
    "\n",
    "rightlon = -111.50\n",
    "leftlon = -131.50\n",
    "toplat = 60.25\n",
    "bottomlat = 40.25\n",
    "# Calculate the indices for the desired grid point\n",
    "rightlon_index = int(round((rightlon - lon[0]) / 0.25))\n",
    "leftlon_index = int(round((leftlon - lon[0]) / 0.25))\n",
    "toplat_index = int(round((lat[0]-toplat) / 0.25))\n",
    "bottomlat_index = int(round((lat[0]-bottomlat) / 0.25))"
   ]
  },
  {
   "cell_type": "code",
   "execution_count": 13,
   "id": "97bc876d-b1bb-4da9-ab81-353805c94c8c",
   "metadata": {
    "tags": []
   },
   "outputs": [
    {
     "data": {
      "text/plain": [
       "274"
      ]
     },
     "execution_count": 13,
     "metadata": {},
     "output_type": "execute_result"
    }
   ],
   "source": [
    "rightlon_index"
   ]
  },
  {
   "cell_type": "code",
   "execution_count": 14,
   "id": "f77a159d-0420-40ad-83c1-ea72de167e7b",
   "metadata": {
    "tags": []
   },
   "outputs": [
    {
     "data": {
      "text/plain": [
       "194"
      ]
     },
     "execution_count": 14,
     "metadata": {},
     "output_type": "execute_result"
    }
   ],
   "source": [
    "leftlon_index"
   ]
  },
  {
   "cell_type": "code",
   "execution_count": 15,
   "id": "47fcacb5-192c-4e11-b842-6c796f9726b7",
   "metadata": {
    "tags": []
   },
   "outputs": [
    {
     "data": {
      "text/plain": [
       "-141"
      ]
     },
     "execution_count": 15,
     "metadata": {},
     "output_type": "execute_result"
    }
   ],
   "source": [
    "toplat_index"
   ]
  },
  {
   "cell_type": "code",
   "execution_count": 16,
   "id": "be524c50-75e4-4e3e-932e-29a0cc3ca9cc",
   "metadata": {
    "tags": []
   },
   "outputs": [
    {
     "data": {
      "text/plain": [
       "-61"
      ]
     },
     "execution_count": 16,
     "metadata": {},
     "output_type": "execute_result"
    }
   ],
   "source": [
    "bottomlat_index"
   ]
  },
  {
   "cell_type": "code",
   "execution_count": null,
   "id": "956f6895-5ae4-4b8f-95a3-5b0afeb72b9a",
   "metadata": {},
   "outputs": [],
   "source": []
  },
  {
   "cell_type": "code",
   "execution_count": null,
   "id": "201b46f5-0272-4599-bc75-22d6630510b1",
   "metadata": {},
   "outputs": [],
   "source": []
  },
  {
   "cell_type": "code",
   "execution_count": 17,
   "id": "529a5897-0f4b-4503-ac2d-49116d13c1dc",
   "metadata": {},
   "outputs": [
    {
     "data": {
      "text/plain": [
       "(21, 220, 480)"
      ]
     },
     "execution_count": 17,
     "metadata": {},
     "output_type": "execute_result"
    }
   ],
   "source": [
    "#era5 data\n",
    "ds_era5 = ds_era.fields[656:737:4,2,260:40:-1,720:1200]\n",
    "np.shape(ds_era5)"
   ]
  },
  {
   "cell_type": "code",
   "execution_count": 18,
   "id": "2b73d5c3-545e-4908-9c22-fe20bef33ced",
   "metadata": {},
   "outputs": [
    {
     "data": {
      "text/html": [
       "<div><svg style=\"position: absolute; width: 0; height: 0; overflow: hidden\">\n",
       "<defs>\n",
       "<symbol id=\"icon-database\" viewBox=\"0 0 32 32\">\n",
       "<path d=\"M16 0c-8.837 0-16 2.239-16 5v4c0 2.761 7.163 5 16 5s16-2.239 16-5v-4c0-2.761-7.163-5-16-5z\"></path>\n",
       "<path d=\"M16 17c-8.837 0-16-2.239-16-5v6c0 2.761 7.163 5 16 5s16-2.239 16-5v-6c0 2.761-7.163 5-16 5z\"></path>\n",
       "<path d=\"M16 26c-8.837 0-16-2.239-16-5v6c0 2.761 7.163 5 16 5s16-2.239 16-5v-6c0 2.761-7.163 5-16 5z\"></path>\n",
       "</symbol>\n",
       "<symbol id=\"icon-file-text2\" viewBox=\"0 0 32 32\">\n",
       "<path d=\"M28.681 7.159c-0.694-0.947-1.662-2.053-2.724-3.116s-2.169-2.030-3.116-2.724c-1.612-1.182-2.393-1.319-2.841-1.319h-15.5c-1.378 0-2.5 1.121-2.5 2.5v27c0 1.378 1.122 2.5 2.5 2.5h23c1.378 0 2.5-1.122 2.5-2.5v-19.5c0-0.448-0.137-1.23-1.319-2.841zM24.543 5.457c0.959 0.959 1.712 1.825 2.268 2.543h-4.811v-4.811c0.718 0.556 1.584 1.309 2.543 2.268zM28 29.5c0 0.271-0.229 0.5-0.5 0.5h-23c-0.271 0-0.5-0.229-0.5-0.5v-27c0-0.271 0.229-0.5 0.5-0.5 0 0 15.499-0 15.5 0v7c0 0.552 0.448 1 1 1h7v19.5z\"></path>\n",
       "<path d=\"M23 26h-14c-0.552 0-1-0.448-1-1s0.448-1 1-1h14c0.552 0 1 0.448 1 1s-0.448 1-1 1z\"></path>\n",
       "<path d=\"M23 22h-14c-0.552 0-1-0.448-1-1s0.448-1 1-1h14c0.552 0 1 0.448 1 1s-0.448 1-1 1z\"></path>\n",
       "<path d=\"M23 18h-14c-0.552 0-1-0.448-1-1s0.448-1 1-1h14c0.552 0 1 0.448 1 1s-0.448 1-1 1z\"></path>\n",
       "</symbol>\n",
       "</defs>\n",
       "</svg>\n",
       "<style>/* CSS stylesheet for displaying xarray objects in jupyterlab.\n",
       " *\n",
       " */\n",
       "\n",
       ":root {\n",
       "  --xr-font-color0: var(--jp-content-font-color0, rgba(0, 0, 0, 1));\n",
       "  --xr-font-color2: var(--jp-content-font-color2, rgba(0, 0, 0, 0.54));\n",
       "  --xr-font-color3: var(--jp-content-font-color3, rgba(0, 0, 0, 0.38));\n",
       "  --xr-border-color: var(--jp-border-color2, #e0e0e0);\n",
       "  --xr-disabled-color: var(--jp-layout-color3, #bdbdbd);\n",
       "  --xr-background-color: var(--jp-layout-color0, white);\n",
       "  --xr-background-color-row-even: var(--jp-layout-color1, white);\n",
       "  --xr-background-color-row-odd: var(--jp-layout-color2, #eeeeee);\n",
       "}\n",
       "\n",
       "html[theme=dark],\n",
       "body[data-theme=dark],\n",
       "body.vscode-dark {\n",
       "  --xr-font-color0: rgba(255, 255, 255, 1);\n",
       "  --xr-font-color2: rgba(255, 255, 255, 0.54);\n",
       "  --xr-font-color3: rgba(255, 255, 255, 0.38);\n",
       "  --xr-border-color: #1F1F1F;\n",
       "  --xr-disabled-color: #515151;\n",
       "  --xr-background-color: #111111;\n",
       "  --xr-background-color-row-even: #111111;\n",
       "  --xr-background-color-row-odd: #313131;\n",
       "}\n",
       "\n",
       ".xr-wrap {\n",
       "  display: block !important;\n",
       "  min-width: 300px;\n",
       "  max-width: 700px;\n",
       "}\n",
       "\n",
       ".xr-text-repr-fallback {\n",
       "  /* fallback to plain text repr when CSS is not injected (untrusted notebook) */\n",
       "  display: none;\n",
       "}\n",
       "\n",
       ".xr-header {\n",
       "  padding-top: 6px;\n",
       "  padding-bottom: 6px;\n",
       "  margin-bottom: 4px;\n",
       "  border-bottom: solid 1px var(--xr-border-color);\n",
       "}\n",
       "\n",
       ".xr-header > div,\n",
       ".xr-header > ul {\n",
       "  display: inline;\n",
       "  margin-top: 0;\n",
       "  margin-bottom: 0;\n",
       "}\n",
       "\n",
       ".xr-obj-type,\n",
       ".xr-array-name {\n",
       "  margin-left: 2px;\n",
       "  margin-right: 10px;\n",
       "}\n",
       "\n",
       ".xr-obj-type {\n",
       "  color: var(--xr-font-color2);\n",
       "}\n",
       "\n",
       ".xr-sections {\n",
       "  padding-left: 0 !important;\n",
       "  display: grid;\n",
       "  grid-template-columns: 150px auto auto 1fr 20px 20px;\n",
       "}\n",
       "\n",
       ".xr-section-item {\n",
       "  display: contents;\n",
       "}\n",
       "\n",
       ".xr-section-item input {\n",
       "  display: none;\n",
       "}\n",
       "\n",
       ".xr-section-item input + label {\n",
       "  color: var(--xr-disabled-color);\n",
       "}\n",
       "\n",
       ".xr-section-item input:enabled + label {\n",
       "  cursor: pointer;\n",
       "  color: var(--xr-font-color2);\n",
       "}\n",
       "\n",
       ".xr-section-item input:enabled + label:hover {\n",
       "  color: var(--xr-font-color0);\n",
       "}\n",
       "\n",
       ".xr-section-summary {\n",
       "  grid-column: 1;\n",
       "  color: var(--xr-font-color2);\n",
       "  font-weight: 500;\n",
       "}\n",
       "\n",
       ".xr-section-summary > span {\n",
       "  display: inline-block;\n",
       "  padding-left: 0.5em;\n",
       "}\n",
       "\n",
       ".xr-section-summary-in:disabled + label {\n",
       "  color: var(--xr-font-color2);\n",
       "}\n",
       "\n",
       ".xr-section-summary-in + label:before {\n",
       "  display: inline-block;\n",
       "  content: '►';\n",
       "  font-size: 11px;\n",
       "  width: 15px;\n",
       "  text-align: center;\n",
       "}\n",
       "\n",
       ".xr-section-summary-in:disabled + label:before {\n",
       "  color: var(--xr-disabled-color);\n",
       "}\n",
       "\n",
       ".xr-section-summary-in:checked + label:before {\n",
       "  content: '▼';\n",
       "}\n",
       "\n",
       ".xr-section-summary-in:checked + label > span {\n",
       "  display: none;\n",
       "}\n",
       "\n",
       ".xr-section-summary,\n",
       ".xr-section-inline-details {\n",
       "  padding-top: 4px;\n",
       "  padding-bottom: 4px;\n",
       "}\n",
       "\n",
       ".xr-section-inline-details {\n",
       "  grid-column: 2 / -1;\n",
       "}\n",
       "\n",
       ".xr-section-details {\n",
       "  display: none;\n",
       "  grid-column: 1 / -1;\n",
       "  margin-bottom: 5px;\n",
       "}\n",
       "\n",
       ".xr-section-summary-in:checked ~ .xr-section-details {\n",
       "  display: contents;\n",
       "}\n",
       "\n",
       ".xr-array-wrap {\n",
       "  grid-column: 1 / -1;\n",
       "  display: grid;\n",
       "  grid-template-columns: 20px auto;\n",
       "}\n",
       "\n",
       ".xr-array-wrap > label {\n",
       "  grid-column: 1;\n",
       "  vertical-align: top;\n",
       "}\n",
       "\n",
       ".xr-preview {\n",
       "  color: var(--xr-font-color3);\n",
       "}\n",
       "\n",
       ".xr-array-preview,\n",
       ".xr-array-data {\n",
       "  padding: 0 5px !important;\n",
       "  grid-column: 2;\n",
       "}\n",
       "\n",
       ".xr-array-data,\n",
       ".xr-array-in:checked ~ .xr-array-preview {\n",
       "  display: none;\n",
       "}\n",
       "\n",
       ".xr-array-in:checked ~ .xr-array-data,\n",
       ".xr-array-preview {\n",
       "  display: inline-block;\n",
       "}\n",
       "\n",
       ".xr-dim-list {\n",
       "  display: inline-block !important;\n",
       "  list-style: none;\n",
       "  padding: 0 !important;\n",
       "  margin: 0;\n",
       "}\n",
       "\n",
       ".xr-dim-list li {\n",
       "  display: inline-block;\n",
       "  padding: 0;\n",
       "  margin: 0;\n",
       "}\n",
       "\n",
       ".xr-dim-list:before {\n",
       "  content: '(';\n",
       "}\n",
       "\n",
       ".xr-dim-list:after {\n",
       "  content: ')';\n",
       "}\n",
       "\n",
       ".xr-dim-list li:not(:last-child):after {\n",
       "  content: ',';\n",
       "  padding-right: 5px;\n",
       "}\n",
       "\n",
       ".xr-has-index {\n",
       "  font-weight: bold;\n",
       "}\n",
       "\n",
       ".xr-var-list,\n",
       ".xr-var-item {\n",
       "  display: contents;\n",
       "}\n",
       "\n",
       ".xr-var-item > div,\n",
       ".xr-var-item label,\n",
       ".xr-var-item > .xr-var-name span {\n",
       "  background-color: var(--xr-background-color-row-even);\n",
       "  margin-bottom: 0;\n",
       "}\n",
       "\n",
       ".xr-var-item > .xr-var-name:hover span {\n",
       "  padding-right: 5px;\n",
       "}\n",
       "\n",
       ".xr-var-list > li:nth-child(odd) > div,\n",
       ".xr-var-list > li:nth-child(odd) > label,\n",
       ".xr-var-list > li:nth-child(odd) > .xr-var-name span {\n",
       "  background-color: var(--xr-background-color-row-odd);\n",
       "}\n",
       "\n",
       ".xr-var-name {\n",
       "  grid-column: 1;\n",
       "}\n",
       "\n",
       ".xr-var-dims {\n",
       "  grid-column: 2;\n",
       "}\n",
       "\n",
       ".xr-var-dtype {\n",
       "  grid-column: 3;\n",
       "  text-align: right;\n",
       "  color: var(--xr-font-color2);\n",
       "}\n",
       "\n",
       ".xr-var-preview {\n",
       "  grid-column: 4;\n",
       "}\n",
       "\n",
       ".xr-index-preview {\n",
       "  grid-column: 2 / 5;\n",
       "  color: var(--xr-font-color2);\n",
       "}\n",
       "\n",
       ".xr-var-name,\n",
       ".xr-var-dims,\n",
       ".xr-var-dtype,\n",
       ".xr-preview,\n",
       ".xr-attrs dt {\n",
       "  white-space: nowrap;\n",
       "  overflow: hidden;\n",
       "  text-overflow: ellipsis;\n",
       "  padding-right: 10px;\n",
       "}\n",
       "\n",
       ".xr-var-name:hover,\n",
       ".xr-var-dims:hover,\n",
       ".xr-var-dtype:hover,\n",
       ".xr-attrs dt:hover {\n",
       "  overflow: visible;\n",
       "  width: auto;\n",
       "  z-index: 1;\n",
       "}\n",
       "\n",
       ".xr-var-attrs,\n",
       ".xr-var-data,\n",
       ".xr-index-data {\n",
       "  display: none;\n",
       "  background-color: var(--xr-background-color) !important;\n",
       "  padding-bottom: 5px !important;\n",
       "}\n",
       "\n",
       ".xr-var-attrs-in:checked ~ .xr-var-attrs,\n",
       ".xr-var-data-in:checked ~ .xr-var-data,\n",
       ".xr-index-data-in:checked ~ .xr-index-data {\n",
       "  display: block;\n",
       "}\n",
       "\n",
       ".xr-var-data > table {\n",
       "  float: right;\n",
       "}\n",
       "\n",
       ".xr-var-name span,\n",
       ".xr-var-data,\n",
       ".xr-index-name div,\n",
       ".xr-index-data,\n",
       ".xr-attrs {\n",
       "  padding-left: 25px !important;\n",
       "}\n",
       "\n",
       ".xr-attrs,\n",
       ".xr-var-attrs,\n",
       ".xr-var-data,\n",
       ".xr-index-data {\n",
       "  grid-column: 1 / -1;\n",
       "}\n",
       "\n",
       "dl.xr-attrs {\n",
       "  padding: 0;\n",
       "  margin: 0;\n",
       "  display: grid;\n",
       "  grid-template-columns: 125px auto;\n",
       "}\n",
       "\n",
       ".xr-attrs dt,\n",
       ".xr-attrs dd {\n",
       "  padding: 0;\n",
       "  margin: 0;\n",
       "  float: left;\n",
       "  padding-right: 10px;\n",
       "  width: auto;\n",
       "}\n",
       "\n",
       ".xr-attrs dt {\n",
       "  font-weight: normal;\n",
       "  grid-column: 1;\n",
       "}\n",
       "\n",
       ".xr-attrs dt:hover span {\n",
       "  display: inline-block;\n",
       "  background: var(--xr-background-color);\n",
       "  padding-right: 10px;\n",
       "}\n",
       "\n",
       ".xr-attrs dd {\n",
       "  grid-column: 2;\n",
       "  white-space: pre-wrap;\n",
       "  word-break: break-all;\n",
       "}\n",
       "\n",
       ".xr-icon-database,\n",
       ".xr-icon-file-text2,\n",
       ".xr-no-icon {\n",
       "  display: inline-block;\n",
       "  vertical-align: middle;\n",
       "  width: 1em;\n",
       "  height: 1.5em !important;\n",
       "  stroke-width: 0;\n",
       "  stroke: currentColor;\n",
       "  fill: currentColor;\n",
       "}\n",
       "</style><pre class='xr-text-repr-fallback'>&lt;xarray.DataArray &#x27;fields&#x27; ()&gt;\n",
       "array(302.749, dtype=float32)</pre><div class='xr-wrap' style='display:none'><div class='xr-header'><div class='xr-obj-type'>xarray.DataArray</div><div class='xr-array-name'>'fields'</div></div><ul class='xr-sections'><li class='xr-section-item'><div class='xr-array-wrap'><input id='section-9fa35b3d-9fcf-41c5-9072-7b2d0730aa5a' class='xr-array-in' type='checkbox' checked><label for='section-9fa35b3d-9fcf-41c5-9072-7b2d0730aa5a' title='Show/hide data repr'><svg class='icon xr-icon-database'><use xlink:href='#icon-database'></use></svg></label><div class='xr-array-preview xr-preview'><span>302.7</span></div><div class='xr-array-data'><pre>array(302.749, dtype=float32)</pre></div></div></li><li class='xr-section-item'><input id='section-55b5b4a0-c7c4-4a19-8a43-a43f2fecd808' class='xr-section-summary-in' type='checkbox' disabled ><label for='section-55b5b4a0-c7c4-4a19-8a43-a43f2fecd808' class='xr-section-summary'  title='Expand/collapse section'>Coordinates: <span>(0)</span></label><div class='xr-section-inline-details'></div><div class='xr-section-details'><ul class='xr-var-list'></ul></div></li><li class='xr-section-item'><input id='section-6e438f25-a017-4a85-80dd-f5f308d3af25' class='xr-section-summary-in' type='checkbox' disabled ><label for='section-6e438f25-a017-4a85-80dd-f5f308d3af25' class='xr-section-summary'  title='Expand/collapse section'>Indexes: <span>(0)</span></label><div class='xr-section-inline-details'></div><div class='xr-section-details'><ul class='xr-var-list'></ul></div></li><li class='xr-section-item'><input id='section-0571880f-d3ce-48d5-9bee-a9fd45884831' class='xr-section-summary-in' type='checkbox' disabled ><label for='section-0571880f-d3ce-48d5-9bee-a9fd45884831' class='xr-section-summary'  title='Expand/collapse section'>Attributes: <span>(0)</span></label><div class='xr-section-inline-details'></div><div class='xr-section-details'><dl class='xr-attrs'></dl></div></li></ul></div></div>"
      ],
      "text/plain": [
       "<xarray.DataArray 'fields' ()>\n",
       "array(302.749, dtype=float32)"
      ]
     },
     "execution_count": 18,
     "metadata": {},
     "output_type": "execute_result"
    }
   ],
   "source": [
    "ds_era5_1 = ds_era5[:,61:141,194:274]\n",
    "np.shape(ds_era5_1)\n",
    "\n",
    "mean_era5 = np.mean(ds_era5_1, axis=(1, 2))\n",
    "mean_era5\n",
    "\n",
    "mean_era5_06_29 = mean_era5[15]\n",
    "mean_era5_06_29"
   ]
  },
  {
   "cell_type": "code",
   "execution_count": 11,
   "id": "60e9970e-1a8c-450c-abe5-ee91847551ac",
   "metadata": {
    "tags": []
   },
   "outputs": [
    {
     "name": "stdout",
     "output_type": "stream",
     "text": [
      "Stored 'data_array_fcn_ec_values_cf' (DataArray)\n"
     ]
    }
   ],
   "source": [
    "#fcn_ecmwf\n",
    "directory_fcn_ec = '/pfs/work7/workspace/scratch/ab6801-fourcastnet/fourcastnet/with_ecmwf_ic/'\n",
    "filename_pattern_fcn_ec = r'\\d{8}_00_backtransformed\\.nc'\n",
    "#fc_cf_20210615_00_sfc.nc\n",
    "#20210704_00_backtransformed.nc\n",
    "files_fcn_ec = sorted([f for f in os.listdir(directory_fcn_ec) if re.match(filename_pattern_fcn_ec, f)])\n",
    "files_fcn_ec\n",
    "\n",
    "data_fcn_ec = []\n",
    "for file1 in files_fcn_ec:\n",
    "    file_path_fcn_ec = os.path.join(directory_fcn_ec, file1)\n",
    "    # Extract the date from the filename\n",
    "    date_str = re.search(r'\\d{8}', file1).group(0)\n",
    "    \n",
    "    date = datetime.datetime.strptime(date_str, '%Y%m%d').date()\n",
    "    # Read the file and extract the desired variable\n",
    "    ds_fcn_ec = xr.open_dataset(file_path_fcn_ec)\n",
    "    variable_data_fcn_ec =  ds_fcn_ec['forecast'][50,:,2,79:159,194:274]\n",
    "    data_fcn_ec.append(variable_data_fcn_ec)\n",
    "\n",
    "data_array_fcn_ec =xr.DataArray(data_fcn_ec)    \n",
    "\n",
    "mean_fcn_ec = np.mean(data_array_fcn_ec, axis=(-2, -1))\n",
    "mean_fcn_ec\n",
    "\n",
    "start_index = 56\n",
    "step_size = 1\n",
    "num_iterations =15\n",
    "fcn_ec_values=[]\n",
    "for i in range(num_iterations):\n",
    "    fcn_ec_value = mean_fcn_ec[(i+1) * step_size, start_index - i * step_size*4]\n",
    "    fcn_ec_values.append(fcn_ec_value)\n",
    "data_array_fcn_ec_values =xr.DataArray(fcn_ec_values)\n",
    "data_array_fcn_ec_values[14] = data_array_ec_values[14]\n",
    "#replace the missing data\n"
   ]
  },
  {
   "cell_type": "code",
   "execution_count": 12,
   "id": "69807401-2f71-4e92-a4e3-4a0beb1757a1",
   "metadata": {
    "tags": []
   },
   "outputs": [
    {
     "name": "stdout",
     "output_type": "stream",
     "text": [
      "Stored 'data_array_fcn_era_values_cf' (DataArray)\n"
     ]
    }
   ],
   "source": [
    "#fcn_era5\n",
    "ds_fcn_era = xr.open_dataset('/pfs/work7/workspace/scratch/ab6801-fourcastnet/fourcastnet/2021_dt_list_ens_backtransformed.nc',engine = 'netcdf4')\n",
    "ds_fcn_era\n",
    "mean_fcn_era = np.mean(ds_fcn_era.forecast[:,0,:,2,79:159,194:274], axis=(-2, -1))\n",
    "mean_fcn_era\n",
    "start_index = 56\n",
    "step_size = 1\n",
    "num_iterations =15\n",
    "fcn_era_values=[]\n",
    "for i in range(num_iterations):\n",
    "    fcn_era_value = mean_fcn_era[(i+1) * step_size, start_index - i * step_size*4]\n",
    "    fcn_era_values.append(fcn_era_value)\n",
    "data_array_fcn_era_values=xr.DataArray(fcn_era_values)\n",
    "\n",
    "#data_array_fcn_era_values"
   ]
  },
  {
   "cell_type": "code",
   "execution_count": 24,
   "id": "e8461c67-be6c-44cc-977a-a7faf43e9d0d",
   "metadata": {
    "tags": []
   },
   "outputs": [
    {
     "data": {
      "image/png": "[encoded data removed]",
      "text/plain": [
       "<Figure size 1000x500 with 1 Axes>"
      ]
     },
     "metadata": {},
     "output_type": "display_data"
    }
   ],
   "source": [
    "#creating plots\n",
    "fig = plt.figure(figsize=(10,5))\n",
    "ax = fig.add_axes([0,0,1,1])\n",
    "index_dates = pd.date_range('2021-06-15', periods=15, freq='D')\n",
    "index_dates\n",
    "date_format = mdates.DateFormatter('%b %d')\n",
    "\n",
    "x = np.linspace(0,14,15)\n",
    "\n",
    "y_ticks = range(285, 303, 5)  # Generate tick positions with a gap of 5 units\n",
    "ax.set_yticks(y_ticks)\n",
    "\n",
    "\n",
    "\n",
    "\n",
    "y = data_array_ec_values[:]\n",
    "y1 = data_array_fcn_ec_values[:]\n",
    "y2 = data_array_fcn_era_values[:]\n",
    "df = pd.DataFrame(y, index=index_dates)\n",
    "df_1 = pd.DataFrame(y1, index=index_dates)\n",
    "df_2 = pd.DataFrame(y2, index=index_dates)\n",
    "plt.plot(df, 'o', color='black',label='ECMWF')\n",
    "plt.plot(df_1, 'o', color='red',label='FourCastNet(ECMWF)')\n",
    "plt.plot(df_2, 'o', color='blue',label='FourCastNet(ERA5)')\n",
    "plt.gca().xaxis.set_major_formatter(date_format)\n",
    "plt.axhline(y=mean_era5_06_29, color='r', linestyle='-',label = 'ERA5')\n",
    "plt.xlabel('Forecast Initialization')\n",
    "plt.ylabel('Temperature(K)')\n",
    "plt.legend(ncol=2,fontsize='small')\n",
    "plt.savefig('/home/kit/imk-tro/gj5173/plots_another_ts/T2m_ts_another.png', bbox_inches='tight',dpi=100)\n",
    "#plt.xticks(time_range)\n",
    "plt.show()"
   ]
  },
  {
   "cell_type": "code",
   "execution_count": 5,
   "id": "2e8a1c29-0163-4f5b-8a0f-da54509e1b36",
   "metadata": {},
   "outputs": [],
   "source": []
  },
  {
   "cell_type": "code",
   "execution_count": 5,
   "id": "622e90ac-322f-4d7c-accd-20231342eab0",
   "metadata": {},
   "outputs": [],
   "source": []
  },
  {
   "cell_type": "code",
   "execution_count": 11,
   "id": "a1bd5b70-878c-4214-ad91-807cd35d5395",
   "metadata": {},
   "outputs": [
    {
     "data": {
      "text/plain": [
       "4"
      ]
     },
     "execution_count": 11,
     "metadata": {},
     "output_type": "execute_result"
    }
   ],
   "source": [
    "import matplotlib.pyplot as pl\n",
    "\n",
    "# there are 4 individuals, each one tested under 3 different settings\n",
    "\n",
    "# --- Random data, e.g. results per algorithm:\n",
    "\n",
    "# Invidual 1\n",
    "d1_1 = [1,1,2,2,3,3]\n",
    "d1_2 = [3,3,4,4,5,5]\n",
    "d1_3 = [5,5,6,6,7,7]\n",
    "\n",
    "# Individual 2\n",
    "d2_1 = [7,7,8,8,9,9]\n",
    "d2_2 = [9,9,10,10,11,11]\n",
    "d2_3 = [11,11,12,12,13,13]\n",
    "\n",
    "# Individual 3\n",
    "d3_1 = [1,2,3,4,5,6]\n",
    "d3_2 = [4,5,6,7,8,9]\n",
    "d3_3 = [10,11,12,13,14,15]\n",
    "\n",
    "# Individual 4\n",
    "d4_1 = [1,1,2,2,3,3]\n",
    "d4_2 = [9,9,10,10,11,11]\n",
    "d4_3 = [10,11,12,13,14,15]\n",
    "\n",
    "\n",
    "# --- Combining your data:\n",
    "data_group1 = [d1_1, d1_2, d1_3]\n",
    "data_group2 = [d2_1, d2_2, d2_3]\n",
    "data_group3 = [d3_1, d3_2, d3_3]\n",
    "data_group4 = [d4_1, d4_2, d4_3]\n",
    "\n",
    "colors = ['pink', 'lightblue', 'lightgreen', 'violet']\n",
    "\n",
    "# we compare the performances of the 4 individuals within the same set of 3 settings \n",
    "data_groups = [data_group1, data_group2, data_group3, data_group4]\n",
    "len(data_groups)"
   ]
  },
  {
   "cell_type": "code",
   "execution_count": 18,
   "id": "6bb69bc8-9e7e-48f5-aec7-c12c99201e9c",
   "metadata": {},
   "outputs": [
    {
     "data": {
      "text/plain": [
       "2.0"
      ]
     },
     "execution_count": 18,
     "metadata": {},
     "output_type": "execute_result"
    },
    {
     "data": {
      "image/png": "[encoded data removed]",
      "text/plain": [
       "<Figure size 640x480 with 1 Axes>"
      ]
     },
     "metadata": {},
     "output_type": "display_data"
    }
   ],
   "source": [
    "# --- Labels for your data:\n",
    "labels_list = ['a','b', 'c']\n",
    "width       = 1/len(labels_list)\n",
    "xlocations  = [ x*((1+ len(data_groups))*width) for x in range(len(data_group1)) ]\n",
    "\n",
    "symbol      = 'r+'\n",
    "ymin        = min ( [ val  for dg in data_groups  for data in dg for val in data ] )\n",
    "ymax        = max ( [ val  for dg in data_groups  for data in dg for val in data ])\n",
    "\n",
    "ax = pl.gca()\n",
    "ax.set_ylim(ymin,ymax)\n",
    "\n",
    "ax.grid(True, linestyle='dotted')\n",
    "ax.set_axisbelow(True)\n",
    "\n",
    "pl.xlabel('X axis label')\n",
    "pl.ylabel('Y axis label')\n",
    "pl.title('title')\n",
    "\n",
    "space = len(data_groups)/2\n",
    "offset = len(data_groups)/2\n",
    "offset"
   ]
  },
  {
   "cell_type": "code",
   "execution_count": 5,
   "id": "199769c1-65f4-4d3b-bcd7-190107e6f970",
   "metadata": {},
   "outputs": [],
   "source": [
    "# --- Offset the positions per group:\n",
    "\n",
    "group_positions = []\n",
    "for num, dg in enumerate(data_groups):    \n",
    "    _off = (0 - space + (0.5+num))\n",
    "    print(_off)\n",
    "    group_positions.append([x+_off*(width+0.01) for x in xlocations])"
   ]
  },
  {
   "cell_type": "code",
   "execution_count": 21,
   "id": "1ae17820-26de-48e9-8fa0-ef2363eef93d",
   "metadata": {
    "tags": []
   },
   "outputs": [
    {
     "data": {
      "text/plain": [
       "[[-0.515, 1.1516666666666664, 2.818333333333333],\n",
       " [-0.17166666666666666, 1.4949999999999999, 3.161666666666666],\n",
       " [0.17166666666666666, 1.8383333333333332, 3.505],\n",
       " [0.515, 2.1816666666666666, 3.848333333333333]]"
      ]
     },
     "execution_count": 21,
     "metadata": {},
     "output_type": "execute_result"
    }
   ],
   "source": [
    "group_positions"
   ]
  },
  {
   "cell_type": "code",
   "execution_count": null,
   "id": "6c96b8c2-9464-462e-a9f7-c975e3d5ff5e",
   "metadata": {},
   "outputs": [],
   "source": []
  },
  {
   "cell_type": "code",
   "execution_count": 16,
   "id": "94583fb1-f39f-4466-8b28-ca10d266ecbe",
   "metadata": {},
   "outputs": [
    {
     "data": {
      "text/plain": [
       "3"
      ]
     },
     "execution_count": 16,
     "metadata": {},
     "output_type": "execute_result"
    }
   ],
   "source": [
    "num"
   ]
  },
  {
   "cell_type": "code",
   "execution_count": 17,
   "id": "bcc50fa0-e055-4d2e-b98d-7d0c1b8b32f2",
   "metadata": {
    "tags": []
   },
   "outputs": [
    {
     "data": {
      "text/plain": [
       "4"
      ]
     },
     "execution_count": 17,
     "metadata": {},
     "output_type": "execute_result"
    }
   ],
   "source": [
    "len(group_positions)"
   ]
  },
  {
   "cell_type": "code",
   "execution_count": 5,
   "id": "50d86553-3cac-47a9-a410-fa75d89eb628",
   "metadata": {},
   "outputs": [
    {
     "name": "stdout",
     "output_type": "stream",
     "text": [
      "-1.5\n",
      "-0.5\n",
      "0.5\n",
      "1.5\n"
     ]
    },
    {
     "data": {
      "image/png": "[encoded data removed]",
      "text/plain": [
       "<Figure size 640x480 with 1 Axes>"
      ]
     },
     "metadata": {},
     "output_type": "display_data"
    }
   ],
   "source": [
    "for dg, pos, c in zip(data_groups, group_positions, colors):\n",
    "    boxes = ax.boxplot(dg, \n",
    "                sym=symbol,\n",
    "                labels=['']*len(labels_list),\n",
    "    #            labels=labels_list,\n",
    "                positions=pos, \n",
    "                widths=width, \n",
    "                boxprops=dict(facecolor=c),\n",
    "    #             capprops=dict(color=c),\n",
    "    #            whiskerprops=dict(color=c),\n",
    "    #            flierprops=dict(color=c, markeredgecolor=c),                       \n",
    "                medianprops=dict(color='grey'),\n",
    "    #           notch=False,  \n",
    "    #           vert=True, \n",
    "    #           whis=1.5,\n",
    "    #           bootstrap=None, \n",
    "    #           usermedians=None, \n",
    "    #           conf_intervals=None,\n",
    "                patch_artist=True,\n",
    "                )\n",
    "ax.set_xticks( xlocations )\n",
    "ax.set_xticklabels( labels_list, rotation=0 )\n",
    "\n",
    "\n",
    "\n",
    "pl.show()"
   ]
  },
  {
   "cell_type": "code",
   "execution_count": null,
   "id": "000b7c69-3b2f-445b-bcbd-2b7667f7ccc2",
   "metadata": {},
   "outputs": [],
   "source": []
  },
  {
   "cell_type": "code",
   "execution_count": null,
   "id": "233b378b-c87b-41bd-adb2-9ed664e1eb19",
   "metadata": {},
   "outputs": [],
   "source": []
  },
  {
   "cell_type": "code",
   "execution_count": null,
   "id": "2a78820e-f711-445c-93d3-693acb5c827f",
   "metadata": {},
   "outputs": [],
   "source": []
  }
 ],
 "metadata": {
  "kernelspec": {
   "display_name": "newenvi1",
   "language": "python",
   "name": "newenvi1"
  },
  "language_info": {
   "codemirror_mode": {
    "name": "ipython",
    "version": 3
   },
   "file_extension": ".py",
   "mimetype": "text/x-python",
   "name": "python",
   "nbconvert_exporter": "python",
   "pygments_lexer": "ipython3",
   "version": "3.9.7"
  }
 },
 "nbformat": 4,
 "nbformat_minor": 5
}
