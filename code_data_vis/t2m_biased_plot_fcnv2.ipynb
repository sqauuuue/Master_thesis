{
 "cells": [
  {
   "cell_type": "code",
   "execution_count": null,
   "id": "ac9709b5-7a07-45c9-bbc4-4826eb9e5878",
   "metadata": {},
   "outputs": [],
   "source": [
    "import numpy as np\n",
    "import h5py\n",
    "import matplotlib.pyplot as plt\n",
    "#import os\n",
    "import cartopy.crs as ccrs\n",
    "import cartopy.feature as cfeature\n",
    "import xarray as xr\n",
    "import matplotlib.patches as patches\n",
    "import os\n",
    "import cartopy.mpl.ticker as cticker\n",
    "from cartopy.mpl.gridliner import LONGITUDE_FORMATTER, LATITUDE_FORMATTER\n",
    "from plotly.subplots import make_subplots\n",
    "import plotly.graph_objects as go\n",
    "import re\n",
    "import datetime\n",
    "import pandas as pd\n",
    "import matplotlib.dates as mdates\n",
    "import matplotlib.colors as mcolors\n",
    "import datetime\n",
    "from matplotlib.colors import ListedColormap\n",
    "from matplotlib.colors import TwoSlopeNorm\n",
    "from function_basic_1 import load_data\n",
    "from function_basic_1 import concatenate_files\n",
    "import statistics"
   ]
  },
  {
   "cell_type": "code",
   "execution_count": null,
   "id": "c373426d-cf8b-4051-94d1-3a6fe04cf8d5",
   "metadata": {},
   "outputs": [],
   "source": [
    "################################### load the ecmwf data ######################################################################################"
   ]
  },
  {
   "cell_type": "code",
   "execution_count": null,
   "id": "b6211974-76c5-45d1-91be-6f216522a290",
   "metadata": {},
   "outputs": [],
   "source": []
  },
  {
   "cell_type": "code",
   "execution_count": null,
   "id": "ab058e70-85dd-45a8-b352-b782a6409abd",
   "metadata": {},
   "outputs": [],
   "source": []
  },
  {
   "cell_type": "code",
   "execution_count": null,
   "id": "20a8e978-6c4d-426d-b72f-8c69efb5ecc3",
   "metadata": {},
   "outputs": [],
   "source": [
    "################################### load the fcn_v2 data #####################################################################################"
   ]
  },
  {
   "cell_type": "code",
   "execution_count": null,
   "id": "71dca741-afc7-4d73-88b7-a64a0d2886c2",
   "metadata": {},
   "outputs": [],
   "source": []
  },
  {
   "cell_type": "code",
   "execution_count": null,
   "id": "d560acb3-9e6a-4eb5-8271-6739cd69a294",
   "metadata": {},
   "outputs": [],
   "source": []
  },
  {
   "cell_type": "code",
   "execution_count": null,
   "id": "253aff55-3a46-4a0f-b588-c7c8f56ce691",
   "metadata": {},
   "outputs": [],
   "source": []
  },
  {
   "cell_type": "code",
   "execution_count": null,
   "id": "7c5ce415-4c1d-46c5-91d4-7307f0fa7058",
   "metadata": {},
   "outputs": [],
   "source": [
    "################################### load the era5 data #####################################################################################"
   ]
  },
  {
   "cell_type": "code",
   "execution_count": null,
   "id": "fc337553-9133-499f-9944-7af0cdfe5656",
   "metadata": {},
   "outputs": [],
   "source": [
    "ds_era = xr.open_dataset('/lsdf/kit/imk-tro/projects/MOD/Gruppe_Knippertz/ey9908/tmp_Yangfan/data/era5/2021.h5')\n",
    "ds_era5_t2m_na = ds_era.fields[656:737:4,2,260:40:-1,720:1200]\n",
    "ds_era5_t850_na = ds_era.fields[656:737:4,5,260:40:-1,720:1200]\n",
    "ds_era5_z500_na = ds_era.fields[656:737:4,14,260:40:-1,720:1200]\n",
    "ds_era5_t2m_na_0629 = ds_era5_t2m_na[15,:,:]\n",
    "ds_era5_t850_na_0629 = ds_era5_t850_na[15,:,:]\n",
    "ds_era5_z500_na_0629 = ds_era5_z500_na[15,:,:]\n",
    "ds_era5_t2m_box_mean = np.mean(ds_era5_t2m_na[:,61:141,194:274], axis=(1, 2))\n",
    "ds_era5_t850_box_mean = np.mean(ds_era5_t850_na[:,61:141,194:274], axis=(1, 2))\n",
    "ds_era5_z500_box_mean = np.mean(ds_era5_z500_na[:,61:141,194:274], axis=(1, 2))\n",
    "\n",
    "ds_era5_t2m_box_0629_mean = ds_era5_t2m_box_mean[15]\n",
    "ds_era5_t850_box_0629_mean = ds_era5_t850_box_mean[15]\n",
    "ds_era5_z500_box_0629_mean = ds_era5_z500_box_mean[15]"
   ]
  },
  {
   "cell_type": "code",
   "execution_count": null,
   "id": "ae3afae4-80e8-406c-90f7-ea7e4b921c2c",
   "metadata": {},
   "outputs": [],
   "source": [
    "################################### calculate the bias #######################################################################################"
   ]
  },
  {
   "cell_type": "code",
   "execution_count": null,
   "id": "b95899cb-6ce7-485a-895f-74097bf2160c",
   "metadata": {},
   "outputs": [],
   "source": []
  },
  {
   "cell_type": "code",
   "execution_count": null,
   "id": "138f99b5-9ffa-4df8-a4ec-9a06fc717bf3",
   "metadata": {},
   "outputs": [],
   "source": [
    "################################## calculate the statistics ##################################################################################"
   ]
  },
  {
   "cell_type": "code",
   "execution_count": null,
   "id": "9016ca4a-9e50-415f-bdde-0588f1806721",
   "metadata": {},
   "outputs": [],
   "source": []
  },
  {
   "cell_type": "code",
   "execution_count": null,
   "id": "31dd5fb9-74eb-408c-a0a0-3b7c737a413b",
   "metadata": {},
   "outputs": [],
   "source": [
    "################################## plot the line plot ########################################################################################"
   ]
  },
  {
   "cell_type": "code",
   "execution_count": null,
   "id": "26d8cdf3-d467-463b-8465-e2fa2a78cecd",
   "metadata": {},
   "outputs": [],
   "source": []
  }
 ],
 "metadata": {
  "kernelspec": {
   "display_name": "newenvi1",
   "language": "python",
   "name": "newenvi1"
  },
  "language_info": {
   "codemirror_mode": {
    "name": "ipython",
    "version": 3
   },
   "file_extension": ".py",
   "mimetype": "text/x-python",
   "name": "python",
   "nbconvert_exporter": "python",
   "pygments_lexer": "ipython3",
   "version": "3.9.7"
  }
 },
 "nbformat": 4,
 "nbformat_minor": 5
}
