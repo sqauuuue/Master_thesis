{
 "cells": [
  {
   "cell_type": "code",
   "execution_count": null,
   "id": "80bfc398-e894-489f-8d78-388d804de60e",
   "metadata": {},
   "outputs": [],
   "source": [
    "\n",
    "import numpy as np\n",
    "import h5py\n",
    "import matplotlib.pyplot as plt\n",
    "#import os\n",
    "import cartopy.crs as ccrs\n",
    "import cartopy.feature as cfeature\n",
    "import xarray as xr\n"
   ]
  },
  {
   "cell_type": "code",
   "execution_count": 2,
   "id": "3ff1062e-c38a-4152-92a9-6922176022fa",
   "metadata": {
    "tags": []
   },
   "outputs": [],
   "source": [
    "\n",
    "# initializing a random numpy array\n",
    "arr = np.random.randn(1000)\n",
    " \n",
    "# creating a file\n",
    "with h5py.File('test.hdf5', 'w') as f:\n",
    "    dset = f.create_dataset(\"default\", data = arr)"
   ]
  },
  {
   "cell_type": "code",
   "execution_count": 3,
   "id": "01884735-0318-4cac-bedb-33c66670462d",
   "metadata": {
    "tags": []
   },
   "outputs": [
    {
     "name": "stdout",
     "output_type": "stream",
     "text": [
      "-3.5557307534436595\n",
      "5.436035980008036\n",
      "[ 1.28827428  0.83139076  0.10504151 -2.41557573 -1.35825391  0.54237604\n",
      " -1.1733309   0.9146841   2.87422097 -1.3174379  -0.57265747 -0.80033676\n",
      " -0.74125906 -0.28818139 -0.16614466]\n"
     ]
    }
   ],
   "source": [
    "# open the file as 'f'\n",
    "with h5py.File('test.hdf5', 'r') as f:\n",
    "    data = f['default']\n",
    "     \n",
    "    # get the minimum value\n",
    "    print(min(data))\n",
    "     \n",
    "    # get the maximum value\n",
    "    print(max(data))\n",
    "     \n",
    "    # get the values ranging from index 0 to 15\n",
    "    print(data[:15])\n",
    "    "
   ]
  },
  {
   "cell_type": "code",
   "execution_count": 4,
   "id": "8be7a70d-a95a-4140-a25a-dd30311fcf46",
   "metadata": {},
   "outputs": [
    {
     "name": "stdout",
     "output_type": "stream",
     "text": [
      "['fields']\n",
      "(425, 720)\n"
     ]
    },
    {
     "data": {
      "image/png": "[encoded data removed]",
      "text/plain": [
       "<Figure size 640x480 with 1 Axes>"
      ]
     },
     "metadata": {},
     "output_type": "display_data"
    }
   ],
   "source": [
    "\n",
    "\n",
    "#check the era5 data\n",
    "f1 = h5py.File('2021.h5', 'r')\n",
    "list(f1.keys())\n",
    "print(list(f1.keys()))\n",
    "\n",
    "\n",
    "    \n",
    "with h5py.File('2021.h5', 'r') as f:\n",
    "   my_array = f['fields'][632,2,255:680,0:720]#2021-06-14,t2m,\n",
    "   \n",
    "   print(np.shape(my_array))\n",
    "\n",
    "fig,ax=plt.subplots(1,1)\n",
    "cp = ax.contourf(my_array)\n"
   ]
  },
  {
   "cell_type": "code",
   "execution_count": null,
   "id": "d79c0682-ac98-40b3-9d1b-5028b3da7606",
   "metadata": {},
   "outputs": [],
   "source": []
  },
  {
   "cell_type": "code",
   "execution_count": null,
   "id": "dd909502-ca23-4f37-829a-328cdad77152",
   "metadata": {},
   "outputs": [
    {
     "name": "stdout",
     "output_type": "stream",
     "text": [
      "Keys: <KeysViewHDF5 ['fields']>\n",
      "<class 'h5py._hl.dataset.Dataset'>\n"
     ]
    }
   ],
   "source": [
    "import h5py\n",
    "filename = \"2021.h5\"\n",
    "\n",
    "with h5py.File(filename, \"r\") as f:\n",
    "    # Print all root level object names (aka keys) \n",
    "    # these can be group or dataset names \n",
    "    print(\"Keys: %s\" % f.keys())\n",
    "    # get first object name/key; may or may NOT be a group\n",
    "    a_group_key = list(f.keys())[0]\n",
    "\n",
    "    # get the object type for a_group_key: usually group or dataset\n",
    "    print(type(f[a_group_key])) \n",
    "\n",
    "    # If a_group_key is a group name, \n",
    "    # this gets the object names in the group and returns as a list\n",
    "    data = list(f[a_group_key])\n",
    "\n",
    "    # If a_group_key is a dataset name, \n",
    "    # this gets the dataset values and returns as a list\n",
    "    data = list(f[a_group_key])\n",
    "    # preferred methods to get dataset values:\n",
    "    ds_obj = f[a_group_key]      # returns as a h5py dataset object\n",
    "    #ds_arr = f[a_group_key][()]  # returns as a numpy array\n",
    "    print(ds_obj)"
   ]
  },
  {
   "cell_type": "code",
   "execution_count": null,
   "id": "befaef48-19dd-4fe6-9b38-e3162f73edf3",
   "metadata": {},
   "outputs": [],
   "source": []
  },
  {
   "cell_type": "code",
   "execution_count": null,
   "id": "74b50a5b-c025-48b8-9581-fe06d6a29fbb",
   "metadata": {},
   "outputs": [],
   "source": [
    "\n",
    "#check for the ECMWF data-controlled forecast\n",
    "ds_pl_cf = xr.open_dataset('/pfs/work7/workspace/scratch/ab6801-fourcastnet/ecmwf_forecasts/fc_cf_20220101_00_pl.grb',indexpath='/tmp/mygrib.{short_hash}.idx',engine = 'cfgrib')\n",
    "ds_pl_cf"
   ]
  },
  {
   "cell_type": "code",
   "execution_count": null,
   "id": "2dc6b6af-9ba5-4823-ad51-811e4dade83e",
   "metadata": {},
   "outputs": [],
   "source": [
    "#check for the ECMWF data-perturbed forecast\n",
    "ds_pl_pf = xr.open_dataset('/pfs/work7/workspace/scratch/ab6801-fourcastnet/ecmwf_forecasts/fc_pf_20220101_00_pl.grb',indexpath='/tmp/mygrib.{short_hash}.pf.idx',engine = 'cfgrib')\n",
    "ds_pl_pf"
   ]
  },
  {
   "cell_type": "code",
   "execution_count": null,
   "id": "b85bc388-cbe5-45fc-8588-4640ffd541d9",
   "metadata": {},
   "outputs": [],
   "source": []
  },
  {
   "cell_type": "code",
   "execution_count": null,
   "id": "8f462d69-2ba5-4edd-8d0c-f5cfba665078",
   "metadata": {},
   "outputs": [],
   "source": [
    "#geopotential height-controlled forecast\n",
    "ds_pl_cf.z.isel(step = 32, isobaricInhPa = 0)\n",
    "ds_pl_cf.z.isel(step = 32, isobaricInhPa = 0).plot()\n",
    "\n"
   ]
  },
  {
   "cell_type": "code",
   "execution_count": null,
   "id": "48e9bd64-2a8a-4b2b-8ae1-34878caf1b5d",
   "metadata": {},
   "outputs": [],
   "source": [
    "#temperature-controlled forecast\n",
    "ds_pl_cf.t.isel(step = 32, isobaricInhPa = 0).plot()"
   ]
  },
  {
   "cell_type": "code",
   "execution_count": null,
   "id": "d39ba09d-2702-4ef1-be7c-b9d3570b1a35",
   "metadata": {},
   "outputs": [],
   "source": [
    "#another way to check the era5 data\n",
    "ds_era = xr.open_dataset('/pfs/work7/workspace/scratch/ab6801-fourcastnet/era5/2021.h5')\n",
    "ds_era"
   ]
  },
  {
   "cell_type": "code",
   "execution_count": null,
   "id": "671707fa-3a63-4905-b1d5-46ac9e70c914",
   "metadata": {},
   "outputs": [],
   "source": [
    "#plot for the era5 data\n",
    "ds_era.fields[165,2,255:720,0:480].plot()  #2021-06-14,t2m,\n"
   ]
  },
  {
   "cell_type": "code",
   "execution_count": null,
   "id": "a0375774-4dce-4d3e-8a1e-2c626abb1e09",
   "metadata": {
    "tags": []
   },
   "outputs": [],
   "source": [
    "#check for the forecastnet data-2022-ensemble\n",
    "ds_fcn = xr.open_dataset('/pfs/work7/workspace/scratch/vt0186-fcn/predictions/ensemble_2022.h5')\n",
    "ds_fcn"
   ]
  },
  {
   "cell_type": "code",
   "execution_count": null,
   "id": "e7d89a48-2810-45b0-adf3-62d8435c72ed",
   "metadata": {
    "tags": []
   },
   "outputs": [],
   "source": [
    "print(ds_fcn.ground_truth[0,0,0,0,0])#lon,time_step,variables,?,?,?"
   ]
  },
  {
   "cell_type": "code",
   "execution_count": null,
   "id": "546fe6ff-d615-436e-adba-35d857b268d4",
   "metadata": {
    "tags": []
   },
   "outputs": [],
   "source": []
  },
  {
   "cell_type": "code",
   "execution_count": null,
   "id": "282ff0ad-30fa-4ee4-8b65-ec92b9837112",
   "metadata": {},
   "outputs": [],
   "source": [
    "ds_fcn.ground_truth[:,0,0,0,0].plot()"
   ]
  },
  {
   "cell_type": "code",
   "execution_count": null,
   "id": "91a758b0-df70-4f42-b841-a63c0b324400",
   "metadata": {},
   "outputs": [],
   "source": [
    "#plot for the ECMWF data with map-temperature\n",
    "def main():\n",
    "\n",
    "        #-- open netcdf file\n",
    "        ds = ds_pl_cf\n",
    "\n",
    "        fig = plt.figure(figsize=(12,6))\n",
    "\n",
    "        #-- choose map projection\n",
    "        ax = plt.axes(projection=ccrs.PlateCarree())\n",
    "\n",
    "        #-- add coastlines, country border lines, and grid lines\n",
    "        ax.coastlines(zorder=5)\n",
    "\n",
    "        ax.set_title('Temperature-850hpa-2022-01-01', fontsize=12, fontweight='bold')\n",
    "\n",
    "        #-- create states outlines\n",
    "        states_provinces = cfeature.NaturalEarthFeature(category='cultural',\n",
    "                                    name='admin_1_states_provinces_lines',\n",
    "                                    scale='50m', facecolor='none')\n",
    "        ax.add_feature(cfeature.BORDERS, linewidth=0.6, edgecolor='gray', zorder=1)\n",
    "        ax.add_feature(states_provinces, edgecolor='gray', zorder=2)\n",
    "\n",
    "        ax.gridlines(draw_labels=True,\n",
    "                     linewidth=0.5,\n",
    "                     color='gray',\n",
    "                     zorder=3,\n",
    "                     xlocs=range(-10,40,15),\n",
    "                     ylocs=range(35,75,15))\n",
    "        cnplot = ax.contourf(ds.longitude, ds.latitude, ds.t[0,0,:,:],cmap='jet',levels=15,zorder=0,transform=ccrs.PlateCarree())\n",
    "\n",
    "        #-- add colorbar\n",
    "        cbar = plt.colorbar(cnplot, orientation='horizontal', pad=0.1, shrink=0.6)\n",
    "        cbar.set_label('K')\n",
    "\n",
    "       # vplot = ax.quiver(ds.lon[::2], ds.lat[::2],\n",
    "                      #ds.u10[0,::2,::2],\n",
    "                      #ds.v10[0,::2,::2],\n",
    "                      #scale_units='xy',\n",
    "                      #scale=2.5,\n",
    "                      #angles='xy',\n",
    "                      #transform=ccrs.PlateCarree())\n",
    "\n",
    "       #vref = ax.quiverkey(vplot, 0.79, 0.25, 20,\n",
    "                            #r'$20 \\frac{m}{s}$',\n",
    "                            #labelpos='E',\n",
    "                        #coordinates='figure', zorder=5)\n",
    "\n",
    "\n",
    "        plt.savefig('plot_matplotlib_vector_on_contour_rect.png', bbox_inches='tight',\n",
    "                     dpi=100)\n",
    "\n",
    "if __name__ == '__main__':\n",
    "    main()\n",
    "       "
   ]
  },
  {
   "cell_type": "code",
   "execution_count": null,
   "id": "d0a7f7e9-0df3-41c2-a3a9-3e9cecf7b820",
   "metadata": {},
   "outputs": [],
   "source": [
    "#plot for the ERA5 data with map-temperature-2m ds_era.fields[165,2,255:720,0:480].plot() \n",
    "def main():\n",
    "\n",
    "        #-- open netcdf file\n",
    "        #ds = ds_pl_cf\n",
    "        \n",
    "        fig = plt.figure(figsize=(16,7))\n",
    "        \n",
    "\n",
    "        #-- choose map projection\n",
    "        ax = plt.axes(projection=ccrs.PlateCarree())\n",
    "        #fig, ax = plt.subplots(2, 1, sharex=True, sharey=True)\n",
    "\n",
    "        #-- add coastlines, country border lines, and grid lines\n",
    "        ax.coastlines(zorder=5)\n",
    "\n",
    "        ax.set_title('T2m-2021-06-14', fontsize=12, fontweight='bold')\n",
    "\n",
    "        #-- create states outlines\n",
    "        states_provinces = cfeature.NaturalEarthFeature(category='cultural',\n",
    "                                    name='admin_1_states_provinces_lines',\n",
    "                                    scale='50m', facecolor='none')\n",
    "        ax.add_feature(cfeature.BORDERS, linewidth=0.6, edgecolor='gray', zorder=1)\n",
    "        #ax.add_feature(states_provinces, edgecolor='gray', zorder=2)\n",
    "\n",
    "        #ax.gridlines(draw_labels=True,\n",
    "                    # linewidth=0.5,\n",
    "                     #color='gray',\n",
    "                     #zorder=3,\n",
    "                     #xlocs=range(-180,180,30),\n",
    "                     #ylocs=range(-90,90,30))\n",
    "        \n",
    "        #plt.imshow(s_era.fields[632,2,255:680,0:720], extent=[x.min(), x.max(), y.min(), y.max()], cmap='gray', origin='lower')\n",
    "        \n",
    "        cnplot = ax.contourf(ds_era.fields[632,2,:,:],cmap='seismic',levels=20,zorder=0,transform=ccrs.PlateCarree())\n",
    "        \n",
    "        #-- add colorbar\n",
    "        cbar = plt.colorbar(cnplot, orientation='horizontal',pad=0.1, shrink=0.6)\n",
    "        cbar.set_label('K')\n",
    "\n",
    "       # vplot = ax.quiver(ds.lon[::2], ds.lat[::2],\n",
    "                      #ds.u10[0,::2,::2],\n",
    "                      #ds.v10[0,::2,::2],\n",
    "                      #scale_units='xy',\n",
    "                      #scale=2.5,\n",
    "                      #angles='xy',\n",
    "                      #transform=ccrs.PlateCarree())\n",
    "\n",
    "       #vref = ax.quiverkey(vplot, 0.79, 0.25, 20,\n",
    "                            #r'$20 \\frac{m}{s}$',\n",
    "                            #labelpos='E',\n",
    "                        #coordinates='figure', zorder=5)\n",
    "\n",
    "\n",
    "        #plt.savefig('plot_matplotlib_vector_on_contour_rect.png', bbox_inches='tight',\n",
    "                     #dpi=100)\n",
    "        \n",
    "if __name__ == '__main__':\n",
    "    main()\n",
    "       "
   ]
  },
  {
   "cell_type": "code",
   "execution_count": null,
   "id": "f5d1149b-10e0-435e-90b9-1cd122b96e7f",
   "metadata": {
    "tags": []
   },
   "outputs": [],
   "source": [
    "print(np.max(ds_era.fields[632,2,255:680,0:720]))"
   ]
  },
  {
   "cell_type": "code",
   "execution_count": null,
   "id": "9d57919f-8d75-4ada-8a04-0799c0c3d17a",
   "metadata": {},
   "outputs": [],
   "source": [
    "\n",
    "fig = plt.figure(figsize=(16,7))\n",
    "        \n",
    "\n",
    "\n",
    "ax = plt.axes(projection=ccrs.PlateCarree())\n",
    "\n",
    "\n",
    "#-- add coastlines, country border lines, and grid lines\n",
    "ax.coastlines(zorder=5)\n",
    "\n",
    "ax.set_title('T2m', fontsize=12, fontweight='bold')\n",
    "\n",
    "#-- create states outlines\n",
    "states_provinces = cfeature.NaturalEarthFeature(category='cultural',\n",
    "                                    name='admin_1_states_provinces_lines',\n",
    "                                    scale='50m', facecolor='none')\n",
    "ax.add_feature(cfeature.BORDERS, linewidth=0.6, edgecolor='gray', zorder=1)\n",
    "#ax.add_feature(states_provinces, edgecolor='gray', zorder=2)\n",
    "\n",
    "ax.gridlines(draw_labels=True,linewidth=0.5,color='gray',zorder=3, xlocs=range(-180,180,30),ylocs=range(25,85,30))\n",
    "        \n",
    "        \n",
    "cnplot = ax.contourf(ds_era.fields[169,2,255:680,0:720],cmap='jet',levels=20,zorder=0,transform=ccrs.PlateCarree())\n",
    "cbar = plt.colorbar(cnplot, orientation='horizontal', pad=0.1, shrink=0.6)\n",
    "cbar.set_label('K')\n",
    "\n",
    "\n",
    "\n"
   ]
  },
  {
   "cell_type": "code",
   "execution_count": null,
   "id": "7aeda6fd-f623-480f-98d8-d6e2aa9b0c62",
   "metadata": {},
   "outputs": [],
   "source": []
  },
  {
   "cell_type": "code",
   "execution_count": null,
   "id": "1df80a43-5cf2-4943-a5e3-cefc9598255d",
   "metadata": {},
   "outputs": [],
   "source": []
  },
  {
   "cell_type": "code",
   "execution_count": null,
   "id": "3548bba5-a175-4ea0-aad7-30048f232324",
   "metadata": {},
   "outputs": [],
   "source": []
  }
 ],
 "metadata": {
  "kernelspec": {
   "display_name": "newenvi1",
   "language": "python",
   "name": "newenvi1"
  },
  "language_info": {
   "codemirror_mode": {
    "name": "ipython",
    "version": 3
   },
   "file_extension": ".py",
   "mimetype": "text/x-python",
   "name": "python",
   "nbconvert_exporter": "python",
   "pygments_lexer": "ipython3",
   "version": "3.9.7"
  }
 },
 "nbformat": 4,
 "nbformat_minor": 5
}
