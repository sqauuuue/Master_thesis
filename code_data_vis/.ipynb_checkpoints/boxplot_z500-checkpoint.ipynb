{
 "cells": [
  {
   "cell_type": "code",
   "execution_count": null,
   "id": "fdfbc622-abbe-4f6f-9103-546f0e02568e",
   "metadata": {
    "tags": []
   },
   "outputs": [],
   "source": [
    "import numpy as np\n",
    "import h5py\n",
    "import matplotlib.pyplot as plt\n",
    "#import os\n",
    "import cartopy.crs as ccrs\n",
    "import cartopy.feature as cfeature\n",
    "import xarray as xr\n",
    "import matplotlib.patches as patches\n",
    "import os\n",
    "import cartopy.mpl.ticker as cticker\n",
    "from cartopy.mpl.gridliner import LONGITUDE_FORMATTER, LATITUDE_FORMATTER\n",
    "from plotly.subplots import make_subplots\n",
    "import plotly.graph_objects as go\n",
    "import re\n",
    "import datetime\n",
    "import pandas as pd\n",
    "import matplotlib.dates as mdates\n",
    "import dask.array as da\n",
    "import seaborn as sns"
   ]
  },
  {
   "cell_type": "code",
   "execution_count": null,
   "id": "92b7a874-43c4-433b-a2ca-d2c8a6fb83ae",
   "metadata": {
    "tags": []
   },
   "outputs": [],
   "source": [
    "#data import\n",
    "ds_era = xr.open_dataset('/pfs/work7/workspace/scratch/ab6801-fourcastnet/era5/2021.h5')\n",
    "ds_era\n",
    "# devided by WMO-defined gravity constant of 9.80665 m/s**2\n",
    "ds_era_z500 = ds_era.fields[716,14,260:40:-1,720:1200] #25°N - 80°N, 180°W - 60°W z500\n",
    "np.shape(ds_era_z500)"
   ]
  },
  {
   "cell_type": "code",
   "execution_count": null,
   "id": "43e7b5e1-2027-4675-b50e-1bdb22e63baa",
   "metadata": {},
   "outputs": [],
   "source": []
  }
 ],
 "metadata": {
  "kernelspec": {
   "display_name": "newenvi1",
   "language": "python",
   "name": "newenvi1"
  },
  "language_info": {
   "codemirror_mode": {
    "name": "ipython",
    "version": 3
   },
   "file_extension": ".py",
   "mimetype": "text/x-python",
   "name": "python",
   "nbconvert_exporter": "python",
   "pygments_lexer": "ipython3",
   "version": "3.9.7"
  }
 },
 "nbformat": 4,
 "nbformat_minor": 5
}
