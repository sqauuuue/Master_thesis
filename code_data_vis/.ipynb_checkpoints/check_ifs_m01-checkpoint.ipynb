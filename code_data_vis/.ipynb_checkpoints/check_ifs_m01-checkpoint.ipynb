{
 "cells": [
  {
   "cell_type": "code",
   "execution_count": null,
   "id": "5b9825c1-ae47-4fee-a581-042f8720c0a2",
   "metadata": {},
   "outputs": [],
   "source": [
    "import numpy as np\n",
    "import h5py\n",
    "import matplotlib.pyplot as plt\n",
    "#import os\n",
    "import cartopy.crs as ccrs\n",
    "import cartopy.feature as cfeature\n",
    "import xarray as xr\n",
    "import matplotlib.patches as patches\n",
    "import os\n",
    "import cartopy.mpl.ticker as cticker\n",
    "from cartopy.mpl.gridliner import LONGITUDE_FORMATTER, LATITUDE_FORMATTER\n",
    "from plotly.subplots import make_subplots\n",
    "import plotly.graph_objects as go\n",
    "import re\n",
    "import matplotlib.colors as mcolors\n",
    "import datetime\n",
    "from matplotlib.colors import ListedColormap\n",
    "from matplotlib.colors import TwoSlopeNorm"
   ]
  }
 ],
 "metadata": {
  "kernelspec": {
   "display_name": "newenvi1",
   "language": "python",
   "name": "newenvi1"
  },
  "language_info": {
   "codemirror_mode": {
    "name": "ipython",
    "version": 3
   },
   "file_extension": ".py",
   "mimetype": "text/x-python",
   "name": "python",
   "nbconvert_exporter": "python",
   "pygments_lexer": "ipython3",
   "version": "3.9.7"
  }
 },
 "nbformat": 4,
 "nbformat_minor": 5
}
