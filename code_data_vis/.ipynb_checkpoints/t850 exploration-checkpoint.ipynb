{
 "cells": [
  {
   "cell_type": "code",
   "execution_count": null,
   "id": "c80711b0-7563-4935-b454-20852f3a23ef",
   "metadata": {},
   "outputs": [],
   "source": []
  }
 ],
 "metadata": {
  "kernelspec": {
   "display_name": "newenvi1",
   "language": "python",
   "name": "newenvi1"
  },
  "language_info": {
   "name": ""
  }
 },
 "nbformat": 4,
 "nbformat_minor": 5
}
